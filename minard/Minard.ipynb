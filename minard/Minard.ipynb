{
  "nbformat": 4,
  "nbformat_minor": 0,
  "metadata": {
    "colab": {
      "name": "Minard.ipynb",
      "provenance": [],
      "collapsed_sections": [],
      "mount_file_id": "1Phxs77_yEsdz3i7WNK6x-uNRkzEjF4LS",
      "authorship_tag": "ABX9TyOQafk45pg80RSw0MFXwn/W",
      "include_colab_link": true
    },
    "kernelspec": {
      "name": "python3",
      "display_name": "Python 3"
    },
    "language_info": {
      "name": "python"
    }
  },
  "cells": [
    {
      "cell_type": "markdown",
      "metadata": {
        "id": "view-in-github",
        "colab_type": "text"
      },
      "source": [
        "<a href=\"https://colab.research.google.com/github/ruthbrennankk/data_visualisation/blob/master/Minard.ipynb\" target=\"_parent\"><img src=\"https://colab.research.google.com/assets/colab-badge.svg\" alt=\"Open In Colab\"/></a>"
      ]
    },
    {
      "cell_type": "code",
      "metadata": {
        "id": "0RpvP1gAGelf"
      },
      "source": [
        "!pip install altair"
      ],
      "execution_count": null,
      "outputs": []
    },
    {
      "cell_type": "code",
      "metadata": {
        "id": "LZ2eo_zhFsjd"
      },
      "source": [
        "#importing libraries\n",
        "import pandas as pd\n",
        "import altair as alt\n",
        "import numpy as np\n",
        "import math"
      ],
      "execution_count": 3,
      "outputs": []
    },
    {
      "cell_type": "code",
      "metadata": {
        "id": "4ECcQkJ2IRdI",
        "colab": {
          "base_uri": "https://localhost:8080/",
          "height": 204
        },
        "outputId": "fdd6d4f2-c3a0-4ed3-f1af-3d1719f8bfeb"
      },
      "source": [
        "#reading minard datasheet\n",
        "minard = pd.read_excel('/content/drive/MyDrive/Year V/Data Visualization/minard-data.xlsx')\n",
        "minard.head(5)"
      ],
      "execution_count": 5,
      "outputs": [
        {
          "output_type": "execute_result",
          "data": {
            "text/html": [
              "<div>\n",
              "<style scoped>\n",
              "    .dataframe tbody tr th:only-of-type {\n",
              "        vertical-align: middle;\n",
              "    }\n",
              "\n",
              "    .dataframe tbody tr th {\n",
              "        vertical-align: top;\n",
              "    }\n",
              "\n",
              "    .dataframe thead th {\n",
              "        text-align: right;\n",
              "    }\n",
              "</style>\n",
              "<table border=\"1\" class=\"dataframe\">\n",
              "  <thead>\n",
              "    <tr style=\"text-align: right;\">\n",
              "      <th></th>\n",
              "      <th>LONC</th>\n",
              "      <th>LATC</th>\n",
              "      <th>CITY</th>\n",
              "      <th>LONT</th>\n",
              "      <th>TEMP</th>\n",
              "      <th>DAYS</th>\n",
              "      <th>MON</th>\n",
              "      <th>DAY</th>\n",
              "      <th>LONP</th>\n",
              "      <th>LATP</th>\n",
              "      <th>SURV</th>\n",
              "      <th>DIR</th>\n",
              "      <th>DIV</th>\n",
              "    </tr>\n",
              "  </thead>\n",
              "  <tbody>\n",
              "    <tr>\n",
              "      <th>0</th>\n",
              "      <td>24.0</td>\n",
              "      <td>55.0</td>\n",
              "      <td>Kowno</td>\n",
              "      <td>37.6</td>\n",
              "      <td>0.0</td>\n",
              "      <td>6.0</td>\n",
              "      <td>Oct</td>\n",
              "      <td>18.0</td>\n",
              "      <td>24.0</td>\n",
              "      <td>54.9</td>\n",
              "      <td>340000</td>\n",
              "      <td>A</td>\n",
              "      <td>1</td>\n",
              "    </tr>\n",
              "    <tr>\n",
              "      <th>1</th>\n",
              "      <td>25.3</td>\n",
              "      <td>54.7</td>\n",
              "      <td>Wilna</td>\n",
              "      <td>36.0</td>\n",
              "      <td>0.0</td>\n",
              "      <td>6.0</td>\n",
              "      <td>Oct</td>\n",
              "      <td>24.0</td>\n",
              "      <td>24.5</td>\n",
              "      <td>55.0</td>\n",
              "      <td>340000</td>\n",
              "      <td>A</td>\n",
              "      <td>1</td>\n",
              "    </tr>\n",
              "    <tr>\n",
              "      <th>2</th>\n",
              "      <td>26.4</td>\n",
              "      <td>54.4</td>\n",
              "      <td>Smorgoni</td>\n",
              "      <td>33.2</td>\n",
              "      <td>-9.0</td>\n",
              "      <td>16.0</td>\n",
              "      <td>Nov</td>\n",
              "      <td>9.0</td>\n",
              "      <td>25.5</td>\n",
              "      <td>54.5</td>\n",
              "      <td>340000</td>\n",
              "      <td>A</td>\n",
              "      <td>1</td>\n",
              "    </tr>\n",
              "    <tr>\n",
              "      <th>3</th>\n",
              "      <td>26.8</td>\n",
              "      <td>54.3</td>\n",
              "      <td>Molodexno</td>\n",
              "      <td>32.0</td>\n",
              "      <td>-21.0</td>\n",
              "      <td>5.0</td>\n",
              "      <td>Nov</td>\n",
              "      <td>14.0</td>\n",
              "      <td>26.0</td>\n",
              "      <td>54.7</td>\n",
              "      <td>320000</td>\n",
              "      <td>A</td>\n",
              "      <td>1</td>\n",
              "    </tr>\n",
              "    <tr>\n",
              "      <th>4</th>\n",
              "      <td>27.7</td>\n",
              "      <td>55.2</td>\n",
              "      <td>Gloubokoe</td>\n",
              "      <td>29.2</td>\n",
              "      <td>-11.0</td>\n",
              "      <td>10.0</td>\n",
              "      <td>NaN</td>\n",
              "      <td>NaN</td>\n",
              "      <td>27.0</td>\n",
              "      <td>54.8</td>\n",
              "      <td>300000</td>\n",
              "      <td>A</td>\n",
              "      <td>1</td>\n",
              "    </tr>\n",
              "  </tbody>\n",
              "</table>\n",
              "</div>"
            ],
            "text/plain": [
              "   LONC  LATC       CITY  LONT  TEMP  DAYS  ...   DAY  LONP  LATP    SURV  DIR DIV\n",
              "0  24.0  55.0      Kowno  37.6   0.0   6.0  ...  18.0  24.0  54.9  340000    A   1\n",
              "1  25.3  54.7      Wilna  36.0   0.0   6.0  ...  24.0  24.5  55.0  340000    A   1\n",
              "2  26.4  54.4   Smorgoni  33.2  -9.0  16.0  ...   9.0  25.5  54.5  340000    A   1\n",
              "3  26.8  54.3  Molodexno  32.0 -21.0   5.0  ...  14.0  26.0  54.7  320000    A   1\n",
              "4  27.7  55.2  Gloubokoe  29.2 -11.0  10.0  ...   NaN  27.0  54.8  300000    A   1\n",
              "\n",
              "[5 rows x 13 columns]"
            ]
          },
          "metadata": {},
          "execution_count": 5
        }
      ]
    },
    {
      "cell_type": "code",
      "metadata": {
        "id": "TSyvu_hiIgAt",
        "colab": {
          "base_uri": "https://localhost:8080/",
          "height": 204
        },
        "outputId": "0fe5846f-78e5-4c44-bec8-531e1f8ffbf1"
      },
      "source": [
        "#splitting cities from minard data\n",
        "cities = minard[['LONC','LATC','CITY']]\n",
        "cities = cities[:20]\n",
        "cities.head(5)"
      ],
      "execution_count": 6,
      "outputs": [
        {
          "output_type": "execute_result",
          "data": {
            "text/html": [
              "<div>\n",
              "<style scoped>\n",
              "    .dataframe tbody tr th:only-of-type {\n",
              "        vertical-align: middle;\n",
              "    }\n",
              "\n",
              "    .dataframe tbody tr th {\n",
              "        vertical-align: top;\n",
              "    }\n",
              "\n",
              "    .dataframe thead th {\n",
              "        text-align: right;\n",
              "    }\n",
              "</style>\n",
              "<table border=\"1\" class=\"dataframe\">\n",
              "  <thead>\n",
              "    <tr style=\"text-align: right;\">\n",
              "      <th></th>\n",
              "      <th>LONC</th>\n",
              "      <th>LATC</th>\n",
              "      <th>CITY</th>\n",
              "    </tr>\n",
              "  </thead>\n",
              "  <tbody>\n",
              "    <tr>\n",
              "      <th>0</th>\n",
              "      <td>24.0</td>\n",
              "      <td>55.0</td>\n",
              "      <td>Kowno</td>\n",
              "    </tr>\n",
              "    <tr>\n",
              "      <th>1</th>\n",
              "      <td>25.3</td>\n",
              "      <td>54.7</td>\n",
              "      <td>Wilna</td>\n",
              "    </tr>\n",
              "    <tr>\n",
              "      <th>2</th>\n",
              "      <td>26.4</td>\n",
              "      <td>54.4</td>\n",
              "      <td>Smorgoni</td>\n",
              "    </tr>\n",
              "    <tr>\n",
              "      <th>3</th>\n",
              "      <td>26.8</td>\n",
              "      <td>54.3</td>\n",
              "      <td>Molodexno</td>\n",
              "    </tr>\n",
              "    <tr>\n",
              "      <th>4</th>\n",
              "      <td>27.7</td>\n",
              "      <td>55.2</td>\n",
              "      <td>Gloubokoe</td>\n",
              "    </tr>\n",
              "  </tbody>\n",
              "</table>\n",
              "</div>"
            ],
            "text/plain": [
              "   LONC  LATC       CITY\n",
              "0  24.0  55.0      Kowno\n",
              "1  25.3  54.7      Wilna\n",
              "2  26.4  54.4   Smorgoni\n",
              "3  26.8  54.3  Molodexno\n",
              "4  27.7  55.2  Gloubokoe"
            ]
          },
          "metadata": {},
          "execution_count": 6
        }
      ]
    },
    {
      "cell_type": "code",
      "metadata": {
        "colab": {
          "base_uri": "https://localhost:8080/",
          "height": 204
        },
        "id": "67PD3_0sIrKN",
        "outputId": "bacdbc4f-848c-4af7-8cf1-52a8cf3ab205"
      },
      "source": [
        "#splitting temperature dataset from minard data\n",
        "temp = minard[['LONT','TEMP','DAYS','MON','DAY']]\n",
        "temp = temp[:9]\n",
        "\n",
        "# Make day into a natural number\n",
        "temp['DAY'] = temp['DAY'].fillna(0).astype(int).map(str)\n",
        "temp['MON'] = temp['MON'].fillna(\"0\").map(str)\n",
        "\n",
        "temp['DATE'] = temp['DAY'].map(str) + ' / ' + temp['MON']\n",
        "temp['DATE'] = temp['DATE'].replace(\"0 / 0\", \"N/A\")\n",
        "temp = temp.drop(['MON','DAY'], axis = 1)\n",
        "\n",
        "\n",
        "temp[\"label\"] = temp.fillna(\"\").apply(\n",
        "    axis=1, func=lambda row: \"{}° - {}\".format(row[1], row[3].replace(\"-\", \" \"))\n",
        ")\n",
        "temp.head(5)"
      ],
      "execution_count": 24,
      "outputs": [
        {
          "output_type": "execute_result",
          "data": {
            "text/html": [
              "<div>\n",
              "<style scoped>\n",
              "    .dataframe tbody tr th:only-of-type {\n",
              "        vertical-align: middle;\n",
              "    }\n",
              "\n",
              "    .dataframe tbody tr th {\n",
              "        vertical-align: top;\n",
              "    }\n",
              "\n",
              "    .dataframe thead th {\n",
              "        text-align: right;\n",
              "    }\n",
              "</style>\n",
              "<table border=\"1\" class=\"dataframe\">\n",
              "  <thead>\n",
              "    <tr style=\"text-align: right;\">\n",
              "      <th></th>\n",
              "      <th>LONT</th>\n",
              "      <th>TEMP</th>\n",
              "      <th>DAYS</th>\n",
              "      <th>DATE</th>\n",
              "      <th>label</th>\n",
              "    </tr>\n",
              "  </thead>\n",
              "  <tbody>\n",
              "    <tr>\n",
              "      <th>0</th>\n",
              "      <td>37.6</td>\n",
              "      <td>0.0</td>\n",
              "      <td>6.0</td>\n",
              "      <td>18 / Oct</td>\n",
              "      <td>0.0° - 18 / Oct</td>\n",
              "    </tr>\n",
              "    <tr>\n",
              "      <th>1</th>\n",
              "      <td>36.0</td>\n",
              "      <td>0.0</td>\n",
              "      <td>6.0</td>\n",
              "      <td>24 / Oct</td>\n",
              "      <td>0.0° - 24 / Oct</td>\n",
              "    </tr>\n",
              "    <tr>\n",
              "      <th>2</th>\n",
              "      <td>33.2</td>\n",
              "      <td>-9.0</td>\n",
              "      <td>16.0</td>\n",
              "      <td>9 / Nov</td>\n",
              "      <td>-9.0° - 9 / Nov</td>\n",
              "    </tr>\n",
              "    <tr>\n",
              "      <th>3</th>\n",
              "      <td>32.0</td>\n",
              "      <td>-21.0</td>\n",
              "      <td>5.0</td>\n",
              "      <td>14 / Nov</td>\n",
              "      <td>-21.0° - 14 / Nov</td>\n",
              "    </tr>\n",
              "    <tr>\n",
              "      <th>4</th>\n",
              "      <td>29.2</td>\n",
              "      <td>-11.0</td>\n",
              "      <td>10.0</td>\n",
              "      <td>N/A</td>\n",
              "      <td>-11.0° - N/A</td>\n",
              "    </tr>\n",
              "  </tbody>\n",
              "</table>\n",
              "</div>"
            ],
            "text/plain": [
              "   LONT  TEMP  DAYS      DATE              label\n",
              "0  37.6   0.0   6.0  18 / Oct    0.0° - 18 / Oct\n",
              "1  36.0   0.0   6.0  24 / Oct    0.0° - 24 / Oct\n",
              "2  33.2  -9.0  16.0   9 / Nov    -9.0° - 9 / Nov\n",
              "3  32.0 -21.0   5.0  14 / Nov  -21.0° - 14 / Nov\n",
              "4  29.2 -11.0  10.0       N/A       -11.0° - N/A"
            ]
          },
          "metadata": {},
          "execution_count": 24
        }
      ]
    },
    {
      "cell_type": "code",
      "metadata": {
        "id": "4eqWzPwlIt0i",
        "colab": {
          "base_uri": "https://localhost:8080/",
          "height": 204
        },
        "outputId": "b9d0f81f-88b4-43bc-de78-3dbb32c8a6b5"
      },
      "source": [
        "#splitting troops data from minard data sheet\n",
        "army = minard[['LONP','LATP','SURV','DIR','DIV']]\n",
        "\n",
        "#connecting the trail between A and R for Divisions 1, 2 and 3\n",
        "army = army.append(pd.Series([37.6,55.8,100000,'A',1], index=army.columns ), ignore_index=True)\n",
        "army = army.append(pd.Series([28.7,55.5,33000,'A',2], index=army.columns ), ignore_index=True)\n",
        "army = army.append(pd.Series([24.6,55.8,22000,'A',3], index=army.columns ), ignore_index=True)\n",
        "\n",
        "#Divide Up\n",
        "div_1_a = army[army[\"DIV\"] == 1]\n",
        "div_1_r = div_1_a[div_1_a[\"DIR\"]=='R']\n",
        "div_1_a = div_1_a[div_1_a[\"DIR\"]=='A']\n",
        "\n",
        "div_2_a = army[army[\"DIV\"] == 2]\n",
        "div_2_r = div_2_a[div_2_a[\"DIR\"]=='R']\n",
        "div_2_a = div_2_a[div_2_a[\"DIR\"]=='A']\n",
        "\n",
        "div_3_a = army[army[\"DIV\"] == 3]\n",
        "div_3_r = div_3_a[div_3_a[\"DIR\"]=='R']\n",
        "div_3_a = div_3_a[div_3_a[\"DIR\"]=='A']\n",
        "\n",
        "army.head(5)"
      ],
      "execution_count": 10,
      "outputs": [
        {
          "output_type": "execute_result",
          "data": {
            "text/html": [
              "<div>\n",
              "<style scoped>\n",
              "    .dataframe tbody tr th:only-of-type {\n",
              "        vertical-align: middle;\n",
              "    }\n",
              "\n",
              "    .dataframe tbody tr th {\n",
              "        vertical-align: top;\n",
              "    }\n",
              "\n",
              "    .dataframe thead th {\n",
              "        text-align: right;\n",
              "    }\n",
              "</style>\n",
              "<table border=\"1\" class=\"dataframe\">\n",
              "  <thead>\n",
              "    <tr style=\"text-align: right;\">\n",
              "      <th></th>\n",
              "      <th>LONP</th>\n",
              "      <th>LATP</th>\n",
              "      <th>SURV</th>\n",
              "      <th>DIR</th>\n",
              "      <th>DIV</th>\n",
              "    </tr>\n",
              "  </thead>\n",
              "  <tbody>\n",
              "    <tr>\n",
              "      <th>0</th>\n",
              "      <td>24.0</td>\n",
              "      <td>54.9</td>\n",
              "      <td>340000</td>\n",
              "      <td>A</td>\n",
              "      <td>1</td>\n",
              "    </tr>\n",
              "    <tr>\n",
              "      <th>1</th>\n",
              "      <td>24.5</td>\n",
              "      <td>55.0</td>\n",
              "      <td>340000</td>\n",
              "      <td>A</td>\n",
              "      <td>1</td>\n",
              "    </tr>\n",
              "    <tr>\n",
              "      <th>2</th>\n",
              "      <td>25.5</td>\n",
              "      <td>54.5</td>\n",
              "      <td>340000</td>\n",
              "      <td>A</td>\n",
              "      <td>1</td>\n",
              "    </tr>\n",
              "    <tr>\n",
              "      <th>3</th>\n",
              "      <td>26.0</td>\n",
              "      <td>54.7</td>\n",
              "      <td>320000</td>\n",
              "      <td>A</td>\n",
              "      <td>1</td>\n",
              "    </tr>\n",
              "    <tr>\n",
              "      <th>4</th>\n",
              "      <td>27.0</td>\n",
              "      <td>54.8</td>\n",
              "      <td>300000</td>\n",
              "      <td>A</td>\n",
              "      <td>1</td>\n",
              "    </tr>\n",
              "  </tbody>\n",
              "</table>\n",
              "</div>"
            ],
            "text/plain": [
              "   LONP  LATP    SURV DIR  DIV\n",
              "0  24.0  54.9  340000   A    1\n",
              "1  24.5  55.0  340000   A    1\n",
              "2  25.5  54.5  340000   A    1\n",
              "3  26.0  54.7  320000   A    1\n",
              "4  27.0  54.8  300000   A    1"
            ]
          },
          "metadata": {},
          "execution_count": 10
        }
      ]
    },
    {
      "cell_type": "code",
      "metadata": {
        "id": "PVPWf_81snDZ"
      },
      "source": [
        "def plot_trail(data, colour) :\n",
        "  return  alt.Chart(data, title='A VISUALISATION OF TROOP LOSSES DURING NAPOLEON’S RUSSIA CAMPAIGN').mark_trail().encode(\n",
        "            longitude='LONP',\n",
        "            latitude='LATP',\n",
        "            size=alt.Size('SURV', scale=alt.Scale(range=[1, 60]), legend=None),\n",
        "            detail='DIV',\n",
        "            color=colour,\n",
        "            tooltip=[\n",
        "                alt.Tooltip('DIV', title='Division'),\n",
        "                alt.Tooltip('SURV', title='Survivors'),\n",
        "                alt.Tooltip('DIR', title='Direction'),\n",
        "                alt.Tooltip('LONP', title='Longitude'),\n",
        "                alt.Tooltip('LATP', title='Latitude')\n",
        "            ],\n",
        "            \n",
        "        ).properties(width=1300,height=350)"
      ],
      "execution_count": 1,
      "outputs": []
    },
    {
      "cell_type": "code",
      "metadata": {
        "id": "YY_TC4mgsewC"
      },
      "source": [
        "# Div One\n",
        "div1_adv_chart = plot_trail(div_1_a, alt.value('#4287f5'))\n",
        "div1_ret_chart = plot_trail(div_1_r, alt.value(\"#9ec3ff\"))\n",
        "div1_chart = div1_adv_chart + div1_ret_chart\n",
        "# div1_chart"
      ],
      "execution_count": 11,
      "outputs": []
    },
    {
      "cell_type": "code",
      "metadata": {
        "id": "xFEFOruYtZxc"
      },
      "source": [
        "# Div Two\n",
        "div2_adv_chart = plot_trail(div_2_a, alt.value('#ff9438'))\n",
        "div2_ret_chart = plot_trail(div_2_r, alt.value(\"#ffcb9e\"))\n",
        "div2_chart = div2_adv_chart + div2_ret_chart\n",
        "# div2_chart"
      ],
      "execution_count": 12,
      "outputs": []
    },
    {
      "cell_type": "code",
      "metadata": {
        "id": "fnJ80MAvtykj"
      },
      "source": [
        "# Div Three\n",
        "div3_adv_chart = plot_trail(div_3_a, alt.value('#0f9432'))\n",
        "div3_ret_chart = plot_trail(div_3_r, alt.value(\"#92fcaf\"))\n",
        "div3_chart = div3_adv_chart + div3_ret_chart\n",
        "# div3_chart"
      ],
      "execution_count": 13,
      "outputs": []
    },
    {
      "cell_type": "code",
      "metadata": {
        "colab": {
          "base_uri": "https://localhost:8080/",
          "height": 398
        },
        "id": "u42pMm57oPuG",
        "outputId": "eae17df2-a3c5-473e-c89d-472a51d66916"
      },
      "source": [
        "army_chart = div1_chart + div2_chart + div3_chart\n",
        "army_chart"
      ],
      "execution_count": 14,
      "outputs": [
        {
          "output_type": "execute_result",
          "data": {
            "text/plain": [
              "alt.LayerChart(...)"
            ],
            "text/html": [
              "\n",
              "<div id=\"altair-viz-cedfb9605c3d4cec8508588a7628b2e7\"></div>\n",
              "<script type=\"text/javascript\">\n",
              "  (function(spec, embedOpt){\n",
              "    let outputDiv = document.currentScript.previousElementSibling;\n",
              "    if (outputDiv.id !== \"altair-viz-cedfb9605c3d4cec8508588a7628b2e7\") {\n",
              "      outputDiv = document.getElementById(\"altair-viz-cedfb9605c3d4cec8508588a7628b2e7\");\n",
              "    }\n",
              "    const paths = {\n",
              "      \"vega\": \"https://cdn.jsdelivr.net/npm//vega@5?noext\",\n",
              "      \"vega-lib\": \"https://cdn.jsdelivr.net/npm//vega-lib?noext\",\n",
              "      \"vega-lite\": \"https://cdn.jsdelivr.net/npm//vega-lite@4.8.1?noext\",\n",
              "      \"vega-embed\": \"https://cdn.jsdelivr.net/npm//vega-embed@6?noext\",\n",
              "    };\n",
              "\n",
              "    function loadScript(lib) {\n",
              "      return new Promise(function(resolve, reject) {\n",
              "        var s = document.createElement('script');\n",
              "        s.src = paths[lib];\n",
              "        s.async = true;\n",
              "        s.onload = () => resolve(paths[lib]);\n",
              "        s.onerror = () => reject(`Error loading script: ${paths[lib]}`);\n",
              "        document.getElementsByTagName(\"head\")[0].appendChild(s);\n",
              "      });\n",
              "    }\n",
              "\n",
              "    function showError(err) {\n",
              "      outputDiv.innerHTML = `<div class=\"error\" style=\"color:red;\">${err}</div>`;\n",
              "      throw err;\n",
              "    }\n",
              "\n",
              "    function displayChart(vegaEmbed) {\n",
              "      vegaEmbed(outputDiv, spec, embedOpt)\n",
              "        .catch(err => showError(`Javascript Error: ${err.message}<br>This usually means there's a typo in your chart specification. See the javascript console for the full traceback.`));\n",
              "    }\n",
              "\n",
              "    if(typeof define === \"function\" && define.amd) {\n",
              "      requirejs.config({paths});\n",
              "      require([\"vega-embed\"], displayChart, err => showError(`Error loading script: ${err.message}`));\n",
              "    } else if (typeof vegaEmbed === \"function\") {\n",
              "      displayChart(vegaEmbed);\n",
              "    } else {\n",
              "      loadScript(\"vega\")\n",
              "        .then(() => loadScript(\"vega-lite\"))\n",
              "        .then(() => loadScript(\"vega-embed\"))\n",
              "        .catch(showError)\n",
              "        .then(() => displayChart(vegaEmbed));\n",
              "    }\n",
              "  })({\"config\": {\"view\": {\"continuousWidth\": 400, \"continuousHeight\": 300}}, \"layer\": [{\"data\": {\"name\": \"data-0f0079365b977f2d9c02a859d88580f1\"}, \"mark\": \"trail\", \"encoding\": {\"color\": {\"value\": \"#4287f5\"}, \"detail\": {\"type\": \"quantitative\", \"field\": \"DIV\"}, \"latitude\": {\"field\": \"LATP\", \"type\": \"quantitative\"}, \"longitude\": {\"field\": \"LONP\", \"type\": \"quantitative\"}, \"size\": {\"type\": \"quantitative\", \"field\": \"SURV\", \"legend\": null, \"scale\": {\"range\": [1, 60]}}, \"tooltip\": [{\"type\": \"quantitative\", \"field\": \"DIV\", \"title\": \"Division\"}, {\"type\": \"quantitative\", \"field\": \"SURV\", \"title\": \"Survivors\"}, {\"type\": \"nominal\", \"field\": \"DIR\", \"title\": \"Direction\"}, {\"type\": \"quantitative\", \"field\": \"LONP\", \"title\": \"Longitude\"}, {\"type\": \"quantitative\", \"field\": \"LATP\", \"title\": \"Latitude\"}]}, \"height\": 350, \"title\": \"A VISUALISATION OF TROOP LOSSES DURING NAPOLEON\\u2019S RUSSIA CAMPAIGN\", \"width\": 1300}, {\"data\": {\"name\": \"data-be25f3f125547aee2cbfd3e5d807c71a\"}, \"mark\": \"trail\", \"encoding\": {\"color\": {\"value\": \"#9ec3ff\"}, \"detail\": {\"type\": \"quantitative\", \"field\": \"DIV\"}, \"latitude\": {\"field\": \"LATP\", \"type\": \"quantitative\"}, \"longitude\": {\"field\": \"LONP\", \"type\": \"quantitative\"}, \"size\": {\"type\": \"quantitative\", \"field\": \"SURV\", \"legend\": null, \"scale\": {\"range\": [1, 60]}}, \"tooltip\": [{\"type\": \"quantitative\", \"field\": \"DIV\", \"title\": \"Division\"}, {\"type\": \"quantitative\", \"field\": \"SURV\", \"title\": \"Survivors\"}, {\"type\": \"nominal\", \"field\": \"DIR\", \"title\": \"Direction\"}, {\"type\": \"quantitative\", \"field\": \"LONP\", \"title\": \"Longitude\"}, {\"type\": \"quantitative\", \"field\": \"LATP\", \"title\": \"Latitude\"}]}, \"height\": 350, \"title\": \"A VISUALISATION OF TROOP LOSSES DURING NAPOLEON\\u2019S RUSSIA CAMPAIGN\", \"width\": 1300}, {\"layer\": [{\"data\": {\"name\": \"data-199eac02c46db1311fbae3df525227f6\"}, \"mark\": \"trail\", \"encoding\": {\"color\": {\"value\": \"#ff9438\"}, \"detail\": {\"type\": \"quantitative\", \"field\": \"DIV\"}, \"latitude\": {\"field\": \"LATP\", \"type\": \"quantitative\"}, \"longitude\": {\"field\": \"LONP\", \"type\": \"quantitative\"}, \"size\": {\"type\": \"quantitative\", \"field\": \"SURV\", \"legend\": null, \"scale\": {\"range\": [1, 60]}}, \"tooltip\": [{\"type\": \"quantitative\", \"field\": \"DIV\", \"title\": \"Division\"}, {\"type\": \"quantitative\", \"field\": \"SURV\", \"title\": \"Survivors\"}, {\"type\": \"nominal\", \"field\": \"DIR\", \"title\": \"Direction\"}, {\"type\": \"quantitative\", \"field\": \"LONP\", \"title\": \"Longitude\"}, {\"type\": \"quantitative\", \"field\": \"LATP\", \"title\": \"Latitude\"}]}, \"height\": 350, \"title\": \"A VISUALISATION OF TROOP LOSSES DURING NAPOLEON\\u2019S RUSSIA CAMPAIGN\", \"width\": 1300}, {\"data\": {\"name\": \"data-0f3a90da2833a0677dcd4b2dd865d475\"}, \"mark\": \"trail\", \"encoding\": {\"color\": {\"value\": \"#ffcb9e\"}, \"detail\": {\"type\": \"quantitative\", \"field\": \"DIV\"}, \"latitude\": {\"field\": \"LATP\", \"type\": \"quantitative\"}, \"longitude\": {\"field\": \"LONP\", \"type\": \"quantitative\"}, \"size\": {\"type\": \"quantitative\", \"field\": \"SURV\", \"legend\": null, \"scale\": {\"range\": [1, 60]}}, \"tooltip\": [{\"type\": \"quantitative\", \"field\": \"DIV\", \"title\": \"Division\"}, {\"type\": \"quantitative\", \"field\": \"SURV\", \"title\": \"Survivors\"}, {\"type\": \"nominal\", \"field\": \"DIR\", \"title\": \"Direction\"}, {\"type\": \"quantitative\", \"field\": \"LONP\", \"title\": \"Longitude\"}, {\"type\": \"quantitative\", \"field\": \"LATP\", \"title\": \"Latitude\"}]}, \"height\": 350, \"title\": \"A VISUALISATION OF TROOP LOSSES DURING NAPOLEON\\u2019S RUSSIA CAMPAIGN\", \"width\": 1300}]}, {\"layer\": [{\"data\": {\"name\": \"data-ae55ba3c652a8b84865f6b3e8ca8b1f6\"}, \"mark\": \"trail\", \"encoding\": {\"color\": {\"value\": \"#0f9432\"}, \"detail\": {\"type\": \"quantitative\", \"field\": \"DIV\"}, \"latitude\": {\"field\": \"LATP\", \"type\": \"quantitative\"}, \"longitude\": {\"field\": \"LONP\", \"type\": \"quantitative\"}, \"size\": {\"type\": \"quantitative\", \"field\": \"SURV\", \"legend\": null, \"scale\": {\"range\": [1, 60]}}, \"tooltip\": [{\"type\": \"quantitative\", \"field\": \"DIV\", \"title\": \"Division\"}, {\"type\": \"quantitative\", \"field\": \"SURV\", \"title\": \"Survivors\"}, {\"type\": \"nominal\", \"field\": \"DIR\", \"title\": \"Direction\"}, {\"type\": \"quantitative\", \"field\": \"LONP\", \"title\": \"Longitude\"}, {\"type\": \"quantitative\", \"field\": \"LATP\", \"title\": \"Latitude\"}]}, \"height\": 350, \"title\": \"A VISUALISATION OF TROOP LOSSES DURING NAPOLEON\\u2019S RUSSIA CAMPAIGN\", \"width\": 1300}, {\"data\": {\"name\": \"data-b909b8e36c44e703f12595083cc00298\"}, \"mark\": \"trail\", \"encoding\": {\"color\": {\"value\": \"#92fcaf\"}, \"detail\": {\"type\": \"quantitative\", \"field\": \"DIV\"}, \"latitude\": {\"field\": \"LATP\", \"type\": \"quantitative\"}, \"longitude\": {\"field\": \"LONP\", \"type\": \"quantitative\"}, \"size\": {\"type\": \"quantitative\", \"field\": \"SURV\", \"legend\": null, \"scale\": {\"range\": [1, 60]}}, \"tooltip\": [{\"type\": \"quantitative\", \"field\": \"DIV\", \"title\": \"Division\"}, {\"type\": \"quantitative\", \"field\": \"SURV\", \"title\": \"Survivors\"}, {\"type\": \"nominal\", \"field\": \"DIR\", \"title\": \"Direction\"}, {\"type\": \"quantitative\", \"field\": \"LONP\", \"title\": \"Longitude\"}, {\"type\": \"quantitative\", \"field\": \"LATP\", \"title\": \"Latitude\"}]}, \"height\": 350, \"title\": \"A VISUALISATION OF TROOP LOSSES DURING NAPOLEON\\u2019S RUSSIA CAMPAIGN\", \"width\": 1300}]}], \"$schema\": \"https://vega.github.io/schema/vega-lite/v4.8.1.json\", \"datasets\": {\"data-0f0079365b977f2d9c02a859d88580f1\": [{\"LONP\": 24.0, \"LATP\": 54.9, \"SURV\": 340000, \"DIR\": \"A\", \"DIV\": 1}, {\"LONP\": 24.5, \"LATP\": 55.0, \"SURV\": 340000, \"DIR\": \"A\", \"DIV\": 1}, {\"LONP\": 25.5, \"LATP\": 54.5, \"SURV\": 340000, \"DIR\": \"A\", \"DIV\": 1}, {\"LONP\": 26.0, \"LATP\": 54.7, \"SURV\": 320000, \"DIR\": \"A\", \"DIV\": 1}, {\"LONP\": 27.0, \"LATP\": 54.8, \"SURV\": 300000, \"DIR\": \"A\", \"DIV\": 1}, {\"LONP\": 28.0, \"LATP\": 54.9, \"SURV\": 280000, \"DIR\": \"A\", \"DIV\": 1}, {\"LONP\": 28.5, \"LATP\": 55.0, \"SURV\": 240000, \"DIR\": \"A\", \"DIV\": 1}, {\"LONP\": 29.0, \"LATP\": 55.1, \"SURV\": 210000, \"DIR\": \"A\", \"DIV\": 1}, {\"LONP\": 30.0, \"LATP\": 55.2, \"SURV\": 180000, \"DIR\": \"A\", \"DIV\": 1}, {\"LONP\": 30.3, \"LATP\": 55.3, \"SURV\": 175000, \"DIR\": \"A\", \"DIV\": 1}, {\"LONP\": 32.0, \"LATP\": 54.8, \"SURV\": 145000, \"DIR\": \"A\", \"DIV\": 1}, {\"LONP\": 33.2, \"LATP\": 54.9, \"SURV\": 140000, \"DIR\": \"A\", \"DIV\": 1}, {\"LONP\": 34.4, \"LATP\": 55.5, \"SURV\": 127100, \"DIR\": \"A\", \"DIV\": 1}, {\"LONP\": 35.5, \"LATP\": 55.4, \"SURV\": 100000, \"DIR\": \"A\", \"DIV\": 1}, {\"LONP\": 36.0, \"LATP\": 55.5, \"SURV\": 100000, \"DIR\": \"A\", \"DIV\": 1}, {\"LONP\": 37.6, \"LATP\": 55.8, \"SURV\": 100000, \"DIR\": \"A\", \"DIV\": 1}], \"data-be25f3f125547aee2cbfd3e5d807c71a\": [{\"LONP\": 37.6, \"LATP\": 55.8, \"SURV\": 100000, \"DIR\": \"R\", \"DIV\": 1}, {\"LONP\": 37.5, \"LATP\": 55.7, \"SURV\": 98000, \"DIR\": \"R\", \"DIV\": 1}, {\"LONP\": 37.0, \"LATP\": 55.0, \"SURV\": 97000, \"DIR\": \"R\", \"DIV\": 1}, {\"LONP\": 36.8, \"LATP\": 55.0, \"SURV\": 96000, \"DIR\": \"R\", \"DIV\": 1}, {\"LONP\": 35.4, \"LATP\": 55.3, \"SURV\": 87000, \"DIR\": \"R\", \"DIV\": 1}, {\"LONP\": 34.3, \"LATP\": 55.2, \"SURV\": 55000, \"DIR\": \"R\", \"DIV\": 1}, {\"LONP\": 33.3, \"LATP\": 54.8, \"SURV\": 37000, \"DIR\": \"R\", \"DIV\": 1}, {\"LONP\": 32.0, \"LATP\": 54.6, \"SURV\": 24000, \"DIR\": \"R\", \"DIV\": 1}, {\"LONP\": 30.4, \"LATP\": 54.4, \"SURV\": 20000, \"DIR\": \"R\", \"DIV\": 1}, {\"LONP\": 29.2, \"LATP\": 54.4, \"SURV\": 20000, \"DIR\": \"R\", \"DIV\": 1}, {\"LONP\": 28.5, \"LATP\": 54.3, \"SURV\": 20000, \"DIR\": \"R\", \"DIV\": 1}, {\"LONP\": 28.3, \"LATP\": 54.4, \"SURV\": 20000, \"DIR\": \"R\", \"DIV\": 1}], \"data-199eac02c46db1311fbae3df525227f6\": [{\"LONP\": 24.0, \"LATP\": 55.1, \"SURV\": 60000, \"DIR\": \"A\", \"DIV\": 2}, {\"LONP\": 24.5, \"LATP\": 55.2, \"SURV\": 60000, \"DIR\": \"A\", \"DIV\": 2}, {\"LONP\": 25.5, \"LATP\": 54.7, \"SURV\": 60000, \"DIR\": \"A\", \"DIV\": 2}, {\"LONP\": 26.6, \"LATP\": 55.7, \"SURV\": 40000, \"DIR\": \"A\", \"DIV\": 2}, {\"LONP\": 27.4, \"LATP\": 55.6, \"SURV\": 33000, \"DIR\": \"A\", \"DIV\": 2}, {\"LONP\": 28.7, \"LATP\": 55.5, \"SURV\": 33000, \"DIR\": \"A\", \"DIV\": 2}], \"data-0f3a90da2833a0677dcd4b2dd865d475\": [{\"LONP\": 28.7, \"LATP\": 55.5, \"SURV\": 30000, \"DIR\": \"R\", \"DIV\": 2}, {\"LONP\": 29.2, \"LATP\": 54.3, \"SURV\": 30000, \"DIR\": \"R\", \"DIV\": 2}, {\"LONP\": 28.5, \"LATP\": 54.2, \"SURV\": 30000, \"DIR\": \"R\", \"DIV\": 2}, {\"LONP\": 28.3, \"LATP\": 54.3, \"SURV\": 28000, \"DIR\": \"R\", \"DIV\": 2}, {\"LONP\": 27.5, \"LATP\": 54.5, \"SURV\": 20000, \"DIR\": \"R\", \"DIV\": 2}, {\"LONP\": 26.8, \"LATP\": 54.3, \"SURV\": 12000, \"DIR\": \"R\", \"DIV\": 2}, {\"LONP\": 26.4, \"LATP\": 54.4, \"SURV\": 14000, \"DIR\": \"R\", \"DIV\": 2}, {\"LONP\": 24.6, \"LATP\": 54.5, \"SURV\": 8000, \"DIR\": \"R\", \"DIV\": 2}, {\"LONP\": 24.4, \"LATP\": 54.4, \"SURV\": 4000, \"DIR\": \"R\", \"DIV\": 2}, {\"LONP\": 24.2, \"LATP\": 54.4, \"SURV\": 4000, \"DIR\": \"R\", \"DIV\": 2}, {\"LONP\": 24.1, \"LATP\": 54.3, \"SURV\": 4000, \"DIR\": \"R\", \"DIV\": 2}], \"data-ae55ba3c652a8b84865f6b3e8ca8b1f6\": [{\"LONP\": 24.0, \"LATP\": 55.2, \"SURV\": 22000, \"DIR\": \"A\", \"DIV\": 3}, {\"LONP\": 24.5, \"LATP\": 55.3, \"SURV\": 22000, \"DIR\": \"A\", \"DIV\": 3}, {\"LONP\": 24.6, \"LATP\": 55.8, \"SURV\": 22000, \"DIR\": \"A\", \"DIV\": 3}], \"data-b909b8e36c44e703f12595083cc00298\": [{\"LONP\": 24.6, \"LATP\": 55.8, \"SURV\": 6000, \"DIR\": \"R\", \"DIV\": 3}, {\"LONP\": 24.2, \"LATP\": 54.4, \"SURV\": 6000, \"DIR\": \"R\", \"DIV\": 3}, {\"LONP\": 24.1, \"LATP\": 54.3, \"SURV\": 6000, \"DIR\": \"R\", \"DIV\": 3}]}}, {\"mode\": \"vega-lite\"});\n",
              "</script>"
            ]
          },
          "metadata": {},
          "execution_count": 14
        }
      ]
    },
    {
      "cell_type": "code",
      "metadata": {
        "id": "4PLi2T33I1zJ",
        "colab": {
          "base_uri": "https://localhost:8080/",
          "height": 381
        },
        "outputId": "d69b5cd3-eb83-431e-f0a2-6d92e0ed6466"
      },
      "source": [
        "cities_circle = alt.Chart(cities).mark_circle(\n",
        "    size=int(50),\n",
        "    color='black'\n",
        ").encode(\n",
        "    # x='LONC:Q',\n",
        "    longitude=\"LONC:Q\",\n",
        "    latitude=\"LATC:Q\",\n",
        "    tooltip=[\n",
        "        alt.Tooltip('CITY', title='City'),\n",
        "        alt.Tooltip('LONC', title='Longitude'),\n",
        "        alt.Tooltip('LATC', title='Latitude')\n",
        "    ]\n",
        ").properties(width=1300,height=350)\n",
        "\n",
        "x_encode = alt.X('LONC:Q',\n",
        "        scale=alt.Scale(domain=[army[\"LONP\"].min(), army[\"LONP\"].max()]),\n",
        "        # axis=alt.Axis(title=None, labels=True)\n",
        "    )\n",
        "\n",
        "cities_label = alt.Chart(cities).mark_text(\n",
        "    fontSize=int(10),\n",
        "    dx=int(0),\n",
        "    dy=int(12),\n",
        "    fontStyle='italic'\n",
        ").encode(\n",
        "    # x=x_encode,\n",
        "    longitude=\"LONC:Q\",\n",
        "    latitude=\"LATC:Q\",\n",
        "    text=\"CITY\"\n",
        ").properties(width=1300,height=350)\n",
        "\n",
        "cities_chart = cities_label + cities_circle\n",
        "cities_chart"
      ],
      "execution_count": 16,
      "outputs": [
        {
          "output_type": "execute_result",
          "data": {
            "text/plain": [
              "alt.LayerChart(...)"
            ],
            "text/html": [
              "\n",
              "<div id=\"altair-viz-a4ac08eb54c6466eaa895208a3274aef\"></div>\n",
              "<script type=\"text/javascript\">\n",
              "  (function(spec, embedOpt){\n",
              "    let outputDiv = document.currentScript.previousElementSibling;\n",
              "    if (outputDiv.id !== \"altair-viz-a4ac08eb54c6466eaa895208a3274aef\") {\n",
              "      outputDiv = document.getElementById(\"altair-viz-a4ac08eb54c6466eaa895208a3274aef\");\n",
              "    }\n",
              "    const paths = {\n",
              "      \"vega\": \"https://cdn.jsdelivr.net/npm//vega@5?noext\",\n",
              "      \"vega-lib\": \"https://cdn.jsdelivr.net/npm//vega-lib?noext\",\n",
              "      \"vega-lite\": \"https://cdn.jsdelivr.net/npm//vega-lite@4.8.1?noext\",\n",
              "      \"vega-embed\": \"https://cdn.jsdelivr.net/npm//vega-embed@6?noext\",\n",
              "    };\n",
              "\n",
              "    function loadScript(lib) {\n",
              "      return new Promise(function(resolve, reject) {\n",
              "        var s = document.createElement('script');\n",
              "        s.src = paths[lib];\n",
              "        s.async = true;\n",
              "        s.onload = () => resolve(paths[lib]);\n",
              "        s.onerror = () => reject(`Error loading script: ${paths[lib]}`);\n",
              "        document.getElementsByTagName(\"head\")[0].appendChild(s);\n",
              "      });\n",
              "    }\n",
              "\n",
              "    function showError(err) {\n",
              "      outputDiv.innerHTML = `<div class=\"error\" style=\"color:red;\">${err}</div>`;\n",
              "      throw err;\n",
              "    }\n",
              "\n",
              "    function displayChart(vegaEmbed) {\n",
              "      vegaEmbed(outputDiv, spec, embedOpt)\n",
              "        .catch(err => showError(`Javascript Error: ${err.message}<br>This usually means there's a typo in your chart specification. See the javascript console for the full traceback.`));\n",
              "    }\n",
              "\n",
              "    if(typeof define === \"function\" && define.amd) {\n",
              "      requirejs.config({paths});\n",
              "      require([\"vega-embed\"], displayChart, err => showError(`Error loading script: ${err.message}`));\n",
              "    } else if (typeof vegaEmbed === \"function\") {\n",
              "      displayChart(vegaEmbed);\n",
              "    } else {\n",
              "      loadScript(\"vega\")\n",
              "        .then(() => loadScript(\"vega-lite\"))\n",
              "        .then(() => loadScript(\"vega-embed\"))\n",
              "        .catch(showError)\n",
              "        .then(() => displayChart(vegaEmbed));\n",
              "    }\n",
              "  })({\"config\": {\"view\": {\"continuousWidth\": 400, \"continuousHeight\": 300}}, \"layer\": [{\"mark\": {\"type\": \"text\", \"dx\": 0, \"dy\": 12, \"fontSize\": 10, \"fontStyle\": \"italic\"}, \"encoding\": {\"latitude\": {\"field\": \"LATC\", \"type\": \"quantitative\"}, \"longitude\": {\"field\": \"LONC\", \"type\": \"quantitative\"}, \"text\": {\"type\": \"nominal\", \"field\": \"CITY\"}}, \"height\": 350, \"width\": 1300}, {\"mark\": {\"type\": \"circle\", \"color\": \"black\", \"size\": 50}, \"encoding\": {\"latitude\": {\"field\": \"LATC\", \"type\": \"quantitative\"}, \"longitude\": {\"field\": \"LONC\", \"type\": \"quantitative\"}, \"tooltip\": [{\"type\": \"nominal\", \"field\": \"CITY\", \"title\": \"City\"}, {\"type\": \"quantitative\", \"field\": \"LONC\", \"title\": \"Longitude\"}, {\"type\": \"quantitative\", \"field\": \"LATC\", \"title\": \"Latitude\"}]}, \"height\": 350, \"width\": 1300}], \"data\": {\"name\": \"data-09a84a2cca3e202a740f0b269ef96a7e\"}, \"$schema\": \"https://vega.github.io/schema/vega-lite/v4.8.1.json\", \"datasets\": {\"data-09a84a2cca3e202a740f0b269ef96a7e\": [{\"LONC\": 24.0, \"LATC\": 55.0, \"CITY\": \"Kowno\"}, {\"LONC\": 25.3, \"LATC\": 54.7, \"CITY\": \"Wilna\"}, {\"LONC\": 26.4, \"LATC\": 54.4, \"CITY\": \"Smorgoni\"}, {\"LONC\": 26.8, \"LATC\": 54.3, \"CITY\": \"Molodexno\"}, {\"LONC\": 27.7, \"LATC\": 55.2, \"CITY\": \"Gloubokoe\"}, {\"LONC\": 27.6, \"LATC\": 53.9, \"CITY\": \"Minsk\"}, {\"LONC\": 28.5, \"LATC\": 54.3, \"CITY\": \"Studienska\"}, {\"LONC\": 28.7, \"LATC\": 55.5, \"CITY\": \"Polotzk\"}, {\"LONC\": 29.2, \"LATC\": 54.4, \"CITY\": \"Bobr\"}, {\"LONC\": 30.2, \"LATC\": 55.3, \"CITY\": \"Witebsk\"}, {\"LONC\": 30.4, \"LATC\": 54.5, \"CITY\": \"Orscha\"}, {\"LONC\": 30.4, \"LATC\": 53.9, \"CITY\": \"Mohilow\"}, {\"LONC\": 32.0, \"LATC\": 54.8, \"CITY\": \"Smolensk\"}, {\"LONC\": 33.2, \"LATC\": 54.9, \"CITY\": \"Dorogobouge\"}, {\"LONC\": 34.3, \"LATC\": 55.2, \"CITY\": \"Wixma\"}, {\"LONC\": 34.4, \"LATC\": 55.5, \"CITY\": \"Chjat\"}, {\"LONC\": 36.0, \"LATC\": 55.5, \"CITY\": \"Mojaisk\"}, {\"LONC\": 37.6, \"LATC\": 55.8, \"CITY\": \"Moscou\"}, {\"LONC\": 36.6, \"LATC\": 55.3, \"CITY\": \"Tarantino\"}, {\"LONC\": 36.5, \"LATC\": 55.0, \"CITY\": \"Malo-jarosewli\"}]}}, {\"mode\": \"vega-lite\"});\n",
              "</script>"
            ]
          },
          "metadata": {},
          "execution_count": 16
        }
      ]
    },
    {
      "cell_type": "code",
      "metadata": {
        "colab": {
          "base_uri": "https://localhost:8080/",
          "height": 398
        },
        "id": "eLqWdky1I4wK",
        "outputId": "b00473d6-b54b-412d-ebbb-d68f60a90f7a"
      },
      "source": [
        "#combining the map charts \n",
        "map_chart = army_chart + cities_chart\n",
        "map_chart = map_chart.properties(width = 900, height = 600)\n",
        "map_chart"
      ],
      "execution_count": 17,
      "outputs": [
        {
          "output_type": "execute_result",
          "data": {
            "text/plain": [
              "alt.LayerChart(...)"
            ],
            "text/html": [
              "\n",
              "<div id=\"altair-viz-973574d34c55413cb4cbb2ca52e19fb0\"></div>\n",
              "<script type=\"text/javascript\">\n",
              "  (function(spec, embedOpt){\n",
              "    let outputDiv = document.currentScript.previousElementSibling;\n",
              "    if (outputDiv.id !== \"altair-viz-973574d34c55413cb4cbb2ca52e19fb0\") {\n",
              "      outputDiv = document.getElementById(\"altair-viz-973574d34c55413cb4cbb2ca52e19fb0\");\n",
              "    }\n",
              "    const paths = {\n",
              "      \"vega\": \"https://cdn.jsdelivr.net/npm//vega@5?noext\",\n",
              "      \"vega-lib\": \"https://cdn.jsdelivr.net/npm//vega-lib?noext\",\n",
              "      \"vega-lite\": \"https://cdn.jsdelivr.net/npm//vega-lite@4.8.1?noext\",\n",
              "      \"vega-embed\": \"https://cdn.jsdelivr.net/npm//vega-embed@6?noext\",\n",
              "    };\n",
              "\n",
              "    function loadScript(lib) {\n",
              "      return new Promise(function(resolve, reject) {\n",
              "        var s = document.createElement('script');\n",
              "        s.src = paths[lib];\n",
              "        s.async = true;\n",
              "        s.onload = () => resolve(paths[lib]);\n",
              "        s.onerror = () => reject(`Error loading script: ${paths[lib]}`);\n",
              "        document.getElementsByTagName(\"head\")[0].appendChild(s);\n",
              "      });\n",
              "    }\n",
              "\n",
              "    function showError(err) {\n",
              "      outputDiv.innerHTML = `<div class=\"error\" style=\"color:red;\">${err}</div>`;\n",
              "      throw err;\n",
              "    }\n",
              "\n",
              "    function displayChart(vegaEmbed) {\n",
              "      vegaEmbed(outputDiv, spec, embedOpt)\n",
              "        .catch(err => showError(`Javascript Error: ${err.message}<br>This usually means there's a typo in your chart specification. See the javascript console for the full traceback.`));\n",
              "    }\n",
              "\n",
              "    if(typeof define === \"function\" && define.amd) {\n",
              "      requirejs.config({paths});\n",
              "      require([\"vega-embed\"], displayChart, err => showError(`Error loading script: ${err.message}`));\n",
              "    } else if (typeof vegaEmbed === \"function\") {\n",
              "      displayChart(vegaEmbed);\n",
              "    } else {\n",
              "      loadScript(\"vega\")\n",
              "        .then(() => loadScript(\"vega-lite\"))\n",
              "        .then(() => loadScript(\"vega-embed\"))\n",
              "        .catch(showError)\n",
              "        .then(() => displayChart(vegaEmbed));\n",
              "    }\n",
              "  })({\"config\": {\"view\": {\"continuousWidth\": 400, \"continuousHeight\": 300}}, \"layer\": [{\"data\": {\"name\": \"data-0f0079365b977f2d9c02a859d88580f1\"}, \"mark\": \"trail\", \"encoding\": {\"color\": {\"value\": \"#4287f5\"}, \"detail\": {\"type\": \"quantitative\", \"field\": \"DIV\"}, \"latitude\": {\"field\": \"LATP\", \"type\": \"quantitative\"}, \"longitude\": {\"field\": \"LONP\", \"type\": \"quantitative\"}, \"size\": {\"type\": \"quantitative\", \"field\": \"SURV\", \"legend\": null, \"scale\": {\"range\": [1, 60]}}, \"tooltip\": [{\"type\": \"quantitative\", \"field\": \"DIV\", \"title\": \"Division\"}, {\"type\": \"quantitative\", \"field\": \"SURV\", \"title\": \"Survivors\"}, {\"type\": \"nominal\", \"field\": \"DIR\", \"title\": \"Direction\"}, {\"type\": \"quantitative\", \"field\": \"LONP\", \"title\": \"Longitude\"}, {\"type\": \"quantitative\", \"field\": \"LATP\", \"title\": \"Latitude\"}]}, \"height\": 350, \"title\": \"A VISUALISATION OF TROOP LOSSES DURING NAPOLEON\\u2019S RUSSIA CAMPAIGN\", \"width\": 1300}, {\"data\": {\"name\": \"data-be25f3f125547aee2cbfd3e5d807c71a\"}, \"mark\": \"trail\", \"encoding\": {\"color\": {\"value\": \"#9ec3ff\"}, \"detail\": {\"type\": \"quantitative\", \"field\": \"DIV\"}, \"latitude\": {\"field\": \"LATP\", \"type\": \"quantitative\"}, \"longitude\": {\"field\": \"LONP\", \"type\": \"quantitative\"}, \"size\": {\"type\": \"quantitative\", \"field\": \"SURV\", \"legend\": null, \"scale\": {\"range\": [1, 60]}}, \"tooltip\": [{\"type\": \"quantitative\", \"field\": \"DIV\", \"title\": \"Division\"}, {\"type\": \"quantitative\", \"field\": \"SURV\", \"title\": \"Survivors\"}, {\"type\": \"nominal\", \"field\": \"DIR\", \"title\": \"Direction\"}, {\"type\": \"quantitative\", \"field\": \"LONP\", \"title\": \"Longitude\"}, {\"type\": \"quantitative\", \"field\": \"LATP\", \"title\": \"Latitude\"}]}, \"height\": 350, \"title\": \"A VISUALISATION OF TROOP LOSSES DURING NAPOLEON\\u2019S RUSSIA CAMPAIGN\", \"width\": 1300}, {\"layer\": [{\"data\": {\"name\": \"data-199eac02c46db1311fbae3df525227f6\"}, \"mark\": \"trail\", \"encoding\": {\"color\": {\"value\": \"#ff9438\"}, \"detail\": {\"type\": \"quantitative\", \"field\": \"DIV\"}, \"latitude\": {\"field\": \"LATP\", \"type\": \"quantitative\"}, \"longitude\": {\"field\": \"LONP\", \"type\": \"quantitative\"}, \"size\": {\"type\": \"quantitative\", \"field\": \"SURV\", \"legend\": null, \"scale\": {\"range\": [1, 60]}}, \"tooltip\": [{\"type\": \"quantitative\", \"field\": \"DIV\", \"title\": \"Division\"}, {\"type\": \"quantitative\", \"field\": \"SURV\", \"title\": \"Survivors\"}, {\"type\": \"nominal\", \"field\": \"DIR\", \"title\": \"Direction\"}, {\"type\": \"quantitative\", \"field\": \"LONP\", \"title\": \"Longitude\"}, {\"type\": \"quantitative\", \"field\": \"LATP\", \"title\": \"Latitude\"}]}, \"height\": 350, \"title\": \"A VISUALISATION OF TROOP LOSSES DURING NAPOLEON\\u2019S RUSSIA CAMPAIGN\", \"width\": 1300}, {\"data\": {\"name\": \"data-0f3a90da2833a0677dcd4b2dd865d475\"}, \"mark\": \"trail\", \"encoding\": {\"color\": {\"value\": \"#ffcb9e\"}, \"detail\": {\"type\": \"quantitative\", \"field\": \"DIV\"}, \"latitude\": {\"field\": \"LATP\", \"type\": \"quantitative\"}, \"longitude\": {\"field\": \"LONP\", \"type\": \"quantitative\"}, \"size\": {\"type\": \"quantitative\", \"field\": \"SURV\", \"legend\": null, \"scale\": {\"range\": [1, 60]}}, \"tooltip\": [{\"type\": \"quantitative\", \"field\": \"DIV\", \"title\": \"Division\"}, {\"type\": \"quantitative\", \"field\": \"SURV\", \"title\": \"Survivors\"}, {\"type\": \"nominal\", \"field\": \"DIR\", \"title\": \"Direction\"}, {\"type\": \"quantitative\", \"field\": \"LONP\", \"title\": \"Longitude\"}, {\"type\": \"quantitative\", \"field\": \"LATP\", \"title\": \"Latitude\"}]}, \"height\": 350, \"title\": \"A VISUALISATION OF TROOP LOSSES DURING NAPOLEON\\u2019S RUSSIA CAMPAIGN\", \"width\": 1300}]}, {\"layer\": [{\"data\": {\"name\": \"data-ae55ba3c652a8b84865f6b3e8ca8b1f6\"}, \"mark\": \"trail\", \"encoding\": {\"color\": {\"value\": \"#0f9432\"}, \"detail\": {\"type\": \"quantitative\", \"field\": \"DIV\"}, \"latitude\": {\"field\": \"LATP\", \"type\": \"quantitative\"}, \"longitude\": {\"field\": \"LONP\", \"type\": \"quantitative\"}, \"size\": {\"type\": \"quantitative\", \"field\": \"SURV\", \"legend\": null, \"scale\": {\"range\": [1, 60]}}, \"tooltip\": [{\"type\": \"quantitative\", \"field\": \"DIV\", \"title\": \"Division\"}, {\"type\": \"quantitative\", \"field\": \"SURV\", \"title\": \"Survivors\"}, {\"type\": \"nominal\", \"field\": \"DIR\", \"title\": \"Direction\"}, {\"type\": \"quantitative\", \"field\": \"LONP\", \"title\": \"Longitude\"}, {\"type\": \"quantitative\", \"field\": \"LATP\", \"title\": \"Latitude\"}]}, \"height\": 350, \"title\": \"A VISUALISATION OF TROOP LOSSES DURING NAPOLEON\\u2019S RUSSIA CAMPAIGN\", \"width\": 1300}, {\"data\": {\"name\": \"data-b909b8e36c44e703f12595083cc00298\"}, \"mark\": \"trail\", \"encoding\": {\"color\": {\"value\": \"#92fcaf\"}, \"detail\": {\"type\": \"quantitative\", \"field\": \"DIV\"}, \"latitude\": {\"field\": \"LATP\", \"type\": \"quantitative\"}, \"longitude\": {\"field\": \"LONP\", \"type\": \"quantitative\"}, \"size\": {\"type\": \"quantitative\", \"field\": \"SURV\", \"legend\": null, \"scale\": {\"range\": [1, 60]}}, \"tooltip\": [{\"type\": \"quantitative\", \"field\": \"DIV\", \"title\": \"Division\"}, {\"type\": \"quantitative\", \"field\": \"SURV\", \"title\": \"Survivors\"}, {\"type\": \"nominal\", \"field\": \"DIR\", \"title\": \"Direction\"}, {\"type\": \"quantitative\", \"field\": \"LONP\", \"title\": \"Longitude\"}, {\"type\": \"quantitative\", \"field\": \"LATP\", \"title\": \"Latitude\"}]}, \"height\": 350, \"title\": \"A VISUALISATION OF TROOP LOSSES DURING NAPOLEON\\u2019S RUSSIA CAMPAIGN\", \"width\": 1300}]}, {\"layer\": [{\"mark\": {\"type\": \"text\", \"dx\": 0, \"dy\": 12, \"fontSize\": 10, \"fontStyle\": \"italic\"}, \"encoding\": {\"latitude\": {\"field\": \"LATC\", \"type\": \"quantitative\"}, \"longitude\": {\"field\": \"LONC\", \"type\": \"quantitative\"}, \"text\": {\"type\": \"nominal\", \"field\": \"CITY\"}}, \"height\": 350, \"width\": 1300}, {\"mark\": {\"type\": \"circle\", \"color\": \"black\", \"size\": 50}, \"encoding\": {\"latitude\": {\"field\": \"LATC\", \"type\": \"quantitative\"}, \"longitude\": {\"field\": \"LONC\", \"type\": \"quantitative\"}, \"tooltip\": [{\"type\": \"nominal\", \"field\": \"CITY\", \"title\": \"City\"}, {\"type\": \"quantitative\", \"field\": \"LONC\", \"title\": \"Longitude\"}, {\"type\": \"quantitative\", \"field\": \"LATC\", \"title\": \"Latitude\"}]}, \"height\": 350, \"width\": 1300}], \"data\": {\"name\": \"data-09a84a2cca3e202a740f0b269ef96a7e\"}}], \"height\": 600, \"width\": 900, \"$schema\": \"https://vega.github.io/schema/vega-lite/v4.8.1.json\", \"datasets\": {\"data-0f0079365b977f2d9c02a859d88580f1\": [{\"LONP\": 24.0, \"LATP\": 54.9, \"SURV\": 340000, \"DIR\": \"A\", \"DIV\": 1}, {\"LONP\": 24.5, \"LATP\": 55.0, \"SURV\": 340000, \"DIR\": \"A\", \"DIV\": 1}, {\"LONP\": 25.5, \"LATP\": 54.5, \"SURV\": 340000, \"DIR\": \"A\", \"DIV\": 1}, {\"LONP\": 26.0, \"LATP\": 54.7, \"SURV\": 320000, \"DIR\": \"A\", \"DIV\": 1}, {\"LONP\": 27.0, \"LATP\": 54.8, \"SURV\": 300000, \"DIR\": \"A\", \"DIV\": 1}, {\"LONP\": 28.0, \"LATP\": 54.9, \"SURV\": 280000, \"DIR\": \"A\", \"DIV\": 1}, {\"LONP\": 28.5, \"LATP\": 55.0, \"SURV\": 240000, \"DIR\": \"A\", \"DIV\": 1}, {\"LONP\": 29.0, \"LATP\": 55.1, \"SURV\": 210000, \"DIR\": \"A\", \"DIV\": 1}, {\"LONP\": 30.0, \"LATP\": 55.2, \"SURV\": 180000, \"DIR\": \"A\", \"DIV\": 1}, {\"LONP\": 30.3, \"LATP\": 55.3, \"SURV\": 175000, \"DIR\": \"A\", \"DIV\": 1}, {\"LONP\": 32.0, \"LATP\": 54.8, \"SURV\": 145000, \"DIR\": \"A\", \"DIV\": 1}, {\"LONP\": 33.2, \"LATP\": 54.9, \"SURV\": 140000, \"DIR\": \"A\", \"DIV\": 1}, {\"LONP\": 34.4, \"LATP\": 55.5, \"SURV\": 127100, \"DIR\": \"A\", \"DIV\": 1}, {\"LONP\": 35.5, \"LATP\": 55.4, \"SURV\": 100000, \"DIR\": \"A\", \"DIV\": 1}, {\"LONP\": 36.0, \"LATP\": 55.5, \"SURV\": 100000, \"DIR\": \"A\", \"DIV\": 1}, {\"LONP\": 37.6, \"LATP\": 55.8, \"SURV\": 100000, \"DIR\": \"A\", \"DIV\": 1}], \"data-be25f3f125547aee2cbfd3e5d807c71a\": [{\"LONP\": 37.6, \"LATP\": 55.8, \"SURV\": 100000, \"DIR\": \"R\", \"DIV\": 1}, {\"LONP\": 37.5, \"LATP\": 55.7, \"SURV\": 98000, \"DIR\": \"R\", \"DIV\": 1}, {\"LONP\": 37.0, \"LATP\": 55.0, \"SURV\": 97000, \"DIR\": \"R\", \"DIV\": 1}, {\"LONP\": 36.8, \"LATP\": 55.0, \"SURV\": 96000, \"DIR\": \"R\", \"DIV\": 1}, {\"LONP\": 35.4, \"LATP\": 55.3, \"SURV\": 87000, \"DIR\": \"R\", \"DIV\": 1}, {\"LONP\": 34.3, \"LATP\": 55.2, \"SURV\": 55000, \"DIR\": \"R\", \"DIV\": 1}, {\"LONP\": 33.3, \"LATP\": 54.8, \"SURV\": 37000, \"DIR\": \"R\", \"DIV\": 1}, {\"LONP\": 32.0, \"LATP\": 54.6, \"SURV\": 24000, \"DIR\": \"R\", \"DIV\": 1}, {\"LONP\": 30.4, \"LATP\": 54.4, \"SURV\": 20000, \"DIR\": \"R\", \"DIV\": 1}, {\"LONP\": 29.2, \"LATP\": 54.4, \"SURV\": 20000, \"DIR\": \"R\", \"DIV\": 1}, {\"LONP\": 28.5, \"LATP\": 54.3, \"SURV\": 20000, \"DIR\": \"R\", \"DIV\": 1}, {\"LONP\": 28.3, \"LATP\": 54.4, \"SURV\": 20000, \"DIR\": \"R\", \"DIV\": 1}], \"data-199eac02c46db1311fbae3df525227f6\": [{\"LONP\": 24.0, \"LATP\": 55.1, \"SURV\": 60000, \"DIR\": \"A\", \"DIV\": 2}, {\"LONP\": 24.5, \"LATP\": 55.2, \"SURV\": 60000, \"DIR\": \"A\", \"DIV\": 2}, {\"LONP\": 25.5, \"LATP\": 54.7, \"SURV\": 60000, \"DIR\": \"A\", \"DIV\": 2}, {\"LONP\": 26.6, \"LATP\": 55.7, \"SURV\": 40000, \"DIR\": \"A\", \"DIV\": 2}, {\"LONP\": 27.4, \"LATP\": 55.6, \"SURV\": 33000, \"DIR\": \"A\", \"DIV\": 2}, {\"LONP\": 28.7, \"LATP\": 55.5, \"SURV\": 33000, \"DIR\": \"A\", \"DIV\": 2}], \"data-0f3a90da2833a0677dcd4b2dd865d475\": [{\"LONP\": 28.7, \"LATP\": 55.5, \"SURV\": 30000, \"DIR\": \"R\", \"DIV\": 2}, {\"LONP\": 29.2, \"LATP\": 54.3, \"SURV\": 30000, \"DIR\": \"R\", \"DIV\": 2}, {\"LONP\": 28.5, \"LATP\": 54.2, \"SURV\": 30000, \"DIR\": \"R\", \"DIV\": 2}, {\"LONP\": 28.3, \"LATP\": 54.3, \"SURV\": 28000, \"DIR\": \"R\", \"DIV\": 2}, {\"LONP\": 27.5, \"LATP\": 54.5, \"SURV\": 20000, \"DIR\": \"R\", \"DIV\": 2}, {\"LONP\": 26.8, \"LATP\": 54.3, \"SURV\": 12000, \"DIR\": \"R\", \"DIV\": 2}, {\"LONP\": 26.4, \"LATP\": 54.4, \"SURV\": 14000, \"DIR\": \"R\", \"DIV\": 2}, {\"LONP\": 24.6, \"LATP\": 54.5, \"SURV\": 8000, \"DIR\": \"R\", \"DIV\": 2}, {\"LONP\": 24.4, \"LATP\": 54.4, \"SURV\": 4000, \"DIR\": \"R\", \"DIV\": 2}, {\"LONP\": 24.2, \"LATP\": 54.4, \"SURV\": 4000, \"DIR\": \"R\", \"DIV\": 2}, {\"LONP\": 24.1, \"LATP\": 54.3, \"SURV\": 4000, \"DIR\": \"R\", \"DIV\": 2}], \"data-ae55ba3c652a8b84865f6b3e8ca8b1f6\": [{\"LONP\": 24.0, \"LATP\": 55.2, \"SURV\": 22000, \"DIR\": \"A\", \"DIV\": 3}, {\"LONP\": 24.5, \"LATP\": 55.3, \"SURV\": 22000, \"DIR\": \"A\", \"DIV\": 3}, {\"LONP\": 24.6, \"LATP\": 55.8, \"SURV\": 22000, \"DIR\": \"A\", \"DIV\": 3}], \"data-b909b8e36c44e703f12595083cc00298\": [{\"LONP\": 24.6, \"LATP\": 55.8, \"SURV\": 6000, \"DIR\": \"R\", \"DIV\": 3}, {\"LONP\": 24.2, \"LATP\": 54.4, \"SURV\": 6000, \"DIR\": \"R\", \"DIV\": 3}, {\"LONP\": 24.1, \"LATP\": 54.3, \"SURV\": 6000, \"DIR\": \"R\", \"DIV\": 3}], \"data-09a84a2cca3e202a740f0b269ef96a7e\": [{\"LONC\": 24.0, \"LATC\": 55.0, \"CITY\": \"Kowno\"}, {\"LONC\": 25.3, \"LATC\": 54.7, \"CITY\": \"Wilna\"}, {\"LONC\": 26.4, \"LATC\": 54.4, \"CITY\": \"Smorgoni\"}, {\"LONC\": 26.8, \"LATC\": 54.3, \"CITY\": \"Molodexno\"}, {\"LONC\": 27.7, \"LATC\": 55.2, \"CITY\": \"Gloubokoe\"}, {\"LONC\": 27.6, \"LATC\": 53.9, \"CITY\": \"Minsk\"}, {\"LONC\": 28.5, \"LATC\": 54.3, \"CITY\": \"Studienska\"}, {\"LONC\": 28.7, \"LATC\": 55.5, \"CITY\": \"Polotzk\"}, {\"LONC\": 29.2, \"LATC\": 54.4, \"CITY\": \"Bobr\"}, {\"LONC\": 30.2, \"LATC\": 55.3, \"CITY\": \"Witebsk\"}, {\"LONC\": 30.4, \"LATC\": 54.5, \"CITY\": \"Orscha\"}, {\"LONC\": 30.4, \"LATC\": 53.9, \"CITY\": \"Mohilow\"}, {\"LONC\": 32.0, \"LATC\": 54.8, \"CITY\": \"Smolensk\"}, {\"LONC\": 33.2, \"LATC\": 54.9, \"CITY\": \"Dorogobouge\"}, {\"LONC\": 34.3, \"LATC\": 55.2, \"CITY\": \"Wixma\"}, {\"LONC\": 34.4, \"LATC\": 55.5, \"CITY\": \"Chjat\"}, {\"LONC\": 36.0, \"LATC\": 55.5, \"CITY\": \"Mojaisk\"}, {\"LONC\": 37.6, \"LATC\": 55.8, \"CITY\": \"Moscou\"}, {\"LONC\": 36.6, \"LATC\": 55.3, \"CITY\": \"Tarantino\"}, {\"LONC\": 36.5, \"LATC\": 55.0, \"CITY\": \"Malo-jarosewli\"}]}}, {\"mode\": \"vega-lite\"});\n",
              "</script>"
            ]
          },
          "metadata": {},
          "execution_count": 17
        }
      ]
    },
    {
      "cell_type": "code",
      "metadata": {
        "id": "IhhS4Bn3I7GL",
        "colab": {
          "base_uri": "https://localhost:8080/",
          "height": 435
        },
        "outputId": "99eeef2b-d6ec-4947-ac23-4cbaccdd33e3"
      },
      "source": [
        "temp_chart = alt.Chart(temp, title='A VISUALISATION OF TEMPERATURE DURING RETREAT OF NAPOLEON’S RUSSIA CAMPAIGN IN DEGREES').mark_trail().encode(x='LONT',y='TEMP',)\n",
        "temp_chart = temp_chart.properties(width=1300,height=350)\n",
        "temp_chart"
      ],
      "execution_count": 25,
      "outputs": [
        {
          "output_type": "execute_result",
          "data": {
            "text/plain": [
              "alt.Chart(...)"
            ],
            "text/html": [
              "\n",
              "<div id=\"altair-viz-a5d3be4363d04ce3b8f11d5eb4d33b93\"></div>\n",
              "<script type=\"text/javascript\">\n",
              "  (function(spec, embedOpt){\n",
              "    let outputDiv = document.currentScript.previousElementSibling;\n",
              "    if (outputDiv.id !== \"altair-viz-a5d3be4363d04ce3b8f11d5eb4d33b93\") {\n",
              "      outputDiv = document.getElementById(\"altair-viz-a5d3be4363d04ce3b8f11d5eb4d33b93\");\n",
              "    }\n",
              "    const paths = {\n",
              "      \"vega\": \"https://cdn.jsdelivr.net/npm//vega@5?noext\",\n",
              "      \"vega-lib\": \"https://cdn.jsdelivr.net/npm//vega-lib?noext\",\n",
              "      \"vega-lite\": \"https://cdn.jsdelivr.net/npm//vega-lite@4.8.1?noext\",\n",
              "      \"vega-embed\": \"https://cdn.jsdelivr.net/npm//vega-embed@6?noext\",\n",
              "    };\n",
              "\n",
              "    function loadScript(lib) {\n",
              "      return new Promise(function(resolve, reject) {\n",
              "        var s = document.createElement('script');\n",
              "        s.src = paths[lib];\n",
              "        s.async = true;\n",
              "        s.onload = () => resolve(paths[lib]);\n",
              "        s.onerror = () => reject(`Error loading script: ${paths[lib]}`);\n",
              "        document.getElementsByTagName(\"head\")[0].appendChild(s);\n",
              "      });\n",
              "    }\n",
              "\n",
              "    function showError(err) {\n",
              "      outputDiv.innerHTML = `<div class=\"error\" style=\"color:red;\">${err}</div>`;\n",
              "      throw err;\n",
              "    }\n",
              "\n",
              "    function displayChart(vegaEmbed) {\n",
              "      vegaEmbed(outputDiv, spec, embedOpt)\n",
              "        .catch(err => showError(`Javascript Error: ${err.message}<br>This usually means there's a typo in your chart specification. See the javascript console for the full traceback.`));\n",
              "    }\n",
              "\n",
              "    if(typeof define === \"function\" && define.amd) {\n",
              "      requirejs.config({paths});\n",
              "      require([\"vega-embed\"], displayChart, err => showError(`Error loading script: ${err.message}`));\n",
              "    } else if (typeof vegaEmbed === \"function\") {\n",
              "      displayChart(vegaEmbed);\n",
              "    } else {\n",
              "      loadScript(\"vega\")\n",
              "        .then(() => loadScript(\"vega-lite\"))\n",
              "        .then(() => loadScript(\"vega-embed\"))\n",
              "        .catch(showError)\n",
              "        .then(() => displayChart(vegaEmbed));\n",
              "    }\n",
              "  })({\"config\": {\"view\": {\"continuousWidth\": 400, \"continuousHeight\": 300}}, \"data\": {\"name\": \"data-c56cbd6688bf374ccfb16b1733f062dc\"}, \"mark\": \"trail\", \"encoding\": {\"x\": {\"type\": \"quantitative\", \"field\": \"LONT\"}, \"y\": {\"type\": \"quantitative\", \"field\": \"TEMP\"}}, \"height\": 350, \"title\": \"A VISUALISATION OF TEMPERATURE DURING RETREAT OF NAPOLEON\\u2019S RUSSIA CAMPAIGN IN DEGREES\", \"width\": 1300, \"$schema\": \"https://vega.github.io/schema/vega-lite/v4.8.1.json\", \"datasets\": {\"data-c56cbd6688bf374ccfb16b1733f062dc\": [{\"LONT\": 37.6, \"TEMP\": 0.0, \"DAYS\": 6.0, \"DATE\": \"18 / Oct\", \"label\": \"0.0\\u00b0 - 18 / Oct\"}, {\"LONT\": 36.0, \"TEMP\": 0.0, \"DAYS\": 6.0, \"DATE\": \"24 / Oct\", \"label\": \"0.0\\u00b0 - 24 / Oct\"}, {\"LONT\": 33.2, \"TEMP\": -9.0, \"DAYS\": 16.0, \"DATE\": \"9 / Nov\", \"label\": \"-9.0\\u00b0 - 9 / Nov\"}, {\"LONT\": 32.0, \"TEMP\": -21.0, \"DAYS\": 5.0, \"DATE\": \"14 / Nov\", \"label\": \"-21.0\\u00b0 - 14 / Nov\"}, {\"LONT\": 29.2, \"TEMP\": -11.0, \"DAYS\": 10.0, \"DATE\": \"N/A\", \"label\": \"-11.0\\u00b0 - N/A\"}, {\"LONT\": 28.5, \"TEMP\": -20.0, \"DAYS\": 4.0, \"DATE\": \"28 / Nov\", \"label\": \"-20.0\\u00b0 - 28 / Nov\"}, {\"LONT\": 27.2, \"TEMP\": -24.0, \"DAYS\": 3.0, \"DATE\": \"1 / Dec\", \"label\": \"-24.0\\u00b0 - 1 / Dec\"}, {\"LONT\": 26.7, \"TEMP\": -30.0, \"DAYS\": 5.0, \"DATE\": \"6 / Dec\", \"label\": \"-30.0\\u00b0 - 6 / Dec\"}, {\"LONT\": 25.3, \"TEMP\": -26.0, \"DAYS\": 1.0, \"DATE\": \"7 / Dec\", \"label\": \"-26.0\\u00b0 - 7 / Dec\"}]}}, {\"mode\": \"vega-lite\"});\n",
              "</script>"
            ]
          },
          "metadata": {},
          "execution_count": 25
        }
      ]
    },
    {
      "cell_type": "code",
      "metadata": {
        "id": "CCG64f7fI9cr"
      },
      "source": [
        "temp_circle_chart = alt.Chart(temp).mark_circle(\n",
        "    size=int(50),\n",
        "    color='black'\n",
        ").encode(\n",
        "    x='LONT',\n",
        "    y='TEMP',\n",
        "    tooltip=[\n",
        "        alt.Tooltip('LONT', title='Longitude'),\n",
        "        alt.Tooltip('TEMP', title='Temperature'),\n",
        "    ]\n",
        ").properties(width=1300,height=350)\n",
        "\n",
        "temp_text_chart = alt.Chart(temp).mark_text(\n",
        "    fontSize=int(10),\n",
        "    dx=int(50),\n",
        "    dy=int(-6),\n",
        "    fontStyle='italic'\n",
        ").encode(\n",
        "    x='LONT',\n",
        "    y='TEMP',\n",
        "    text='label'\n",
        ").properties(width=1300,height=350)\n",
        "\n",
        "temp_label_chart = temp_circle_chart + temp_text_chart\n",
        "temp_label_chart"
      ],
      "execution_count": null,
      "outputs": []
    },
    {
      "cell_type": "code",
      "metadata": {
        "id": "dVX6LX3WI_81",
        "colab": {
          "base_uri": "https://localhost:8080/",
          "height": 441
        },
        "outputId": "a9e8edf2-73e2-488e-d7ba-fa691c0f33d1"
      },
      "source": [
        "temp = temp_chart + temp_label_chart\n",
        "temp"
      ],
      "execution_count": 27,
      "outputs": [
        {
          "output_type": "execute_result",
          "data": {
            "text/plain": [
              "alt.LayerChart(...)"
            ],
            "text/html": [
              "\n",
              "<div id=\"altair-viz-bbb824999fd14bbf92a051e34c6bc563\"></div>\n",
              "<script type=\"text/javascript\">\n",
              "  (function(spec, embedOpt){\n",
              "    let outputDiv = document.currentScript.previousElementSibling;\n",
              "    if (outputDiv.id !== \"altair-viz-bbb824999fd14bbf92a051e34c6bc563\") {\n",
              "      outputDiv = document.getElementById(\"altair-viz-bbb824999fd14bbf92a051e34c6bc563\");\n",
              "    }\n",
              "    const paths = {\n",
              "      \"vega\": \"https://cdn.jsdelivr.net/npm//vega@5?noext\",\n",
              "      \"vega-lib\": \"https://cdn.jsdelivr.net/npm//vega-lib?noext\",\n",
              "      \"vega-lite\": \"https://cdn.jsdelivr.net/npm//vega-lite@4.8.1?noext\",\n",
              "      \"vega-embed\": \"https://cdn.jsdelivr.net/npm//vega-embed@6?noext\",\n",
              "    };\n",
              "\n",
              "    function loadScript(lib) {\n",
              "      return new Promise(function(resolve, reject) {\n",
              "        var s = document.createElement('script');\n",
              "        s.src = paths[lib];\n",
              "        s.async = true;\n",
              "        s.onload = () => resolve(paths[lib]);\n",
              "        s.onerror = () => reject(`Error loading script: ${paths[lib]}`);\n",
              "        document.getElementsByTagName(\"head\")[0].appendChild(s);\n",
              "      });\n",
              "    }\n",
              "\n",
              "    function showError(err) {\n",
              "      outputDiv.innerHTML = `<div class=\"error\" style=\"color:red;\">${err}</div>`;\n",
              "      throw err;\n",
              "    }\n",
              "\n",
              "    function displayChart(vegaEmbed) {\n",
              "      vegaEmbed(outputDiv, spec, embedOpt)\n",
              "        .catch(err => showError(`Javascript Error: ${err.message}<br>This usually means there's a typo in your chart specification. See the javascript console for the full traceback.`));\n",
              "    }\n",
              "\n",
              "    if(typeof define === \"function\" && define.amd) {\n",
              "      requirejs.config({paths});\n",
              "      require([\"vega-embed\"], displayChart, err => showError(`Error loading script: ${err.message}`));\n",
              "    } else if (typeof vegaEmbed === \"function\") {\n",
              "      displayChart(vegaEmbed);\n",
              "    } else {\n",
              "      loadScript(\"vega\")\n",
              "        .then(() => loadScript(\"vega-lite\"))\n",
              "        .then(() => loadScript(\"vega-embed\"))\n",
              "        .catch(showError)\n",
              "        .then(() => displayChart(vegaEmbed));\n",
              "    }\n",
              "  })({\"config\": {\"view\": {\"continuousWidth\": 400, \"continuousHeight\": 300}}, \"layer\": [{\"mark\": \"trail\", \"encoding\": {\"x\": {\"type\": \"quantitative\", \"field\": \"LONT\"}, \"y\": {\"type\": \"quantitative\", \"field\": \"TEMP\"}}, \"height\": 350, \"title\": \"A VISUALISATION OF TEMPERATURE DURING RETREAT OF NAPOLEON\\u2019S RUSSIA CAMPAIGN IN DEGREES\", \"width\": 1300}, {\"layer\": [{\"mark\": {\"type\": \"circle\", \"color\": \"black\", \"size\": 50}, \"encoding\": {\"tooltip\": [{\"type\": \"quantitative\", \"field\": \"LONT\", \"title\": \"Longitude\"}, {\"type\": \"quantitative\", \"field\": \"TEMP\", \"title\": \"Temperature\"}], \"x\": {\"type\": \"quantitative\", \"field\": \"LONT\"}, \"y\": {\"type\": \"quantitative\", \"field\": \"TEMP\"}}, \"height\": 350, \"width\": 1300}, {\"mark\": {\"type\": \"text\", \"dx\": 50, \"dy\": -6, \"fontSize\": 10, \"fontStyle\": \"italic\"}, \"encoding\": {\"text\": {\"type\": \"nominal\", \"field\": \"label\"}, \"x\": {\"type\": \"quantitative\", \"field\": \"LONT\"}, \"y\": {\"type\": \"quantitative\", \"field\": \"TEMP\"}}, \"height\": 350, \"width\": 1300}]}], \"data\": {\"name\": \"data-c56cbd6688bf374ccfb16b1733f062dc\"}, \"$schema\": \"https://vega.github.io/schema/vega-lite/v4.8.1.json\", \"datasets\": {\"data-c56cbd6688bf374ccfb16b1733f062dc\": [{\"LONT\": 37.6, \"TEMP\": 0.0, \"DAYS\": 6.0, \"DATE\": \"18 / Oct\", \"label\": \"0.0\\u00b0 - 18 / Oct\"}, {\"LONT\": 36.0, \"TEMP\": 0.0, \"DAYS\": 6.0, \"DATE\": \"24 / Oct\", \"label\": \"0.0\\u00b0 - 24 / Oct\"}, {\"LONT\": 33.2, \"TEMP\": -9.0, \"DAYS\": 16.0, \"DATE\": \"9 / Nov\", \"label\": \"-9.0\\u00b0 - 9 / Nov\"}, {\"LONT\": 32.0, \"TEMP\": -21.0, \"DAYS\": 5.0, \"DATE\": \"14 / Nov\", \"label\": \"-21.0\\u00b0 - 14 / Nov\"}, {\"LONT\": 29.2, \"TEMP\": -11.0, \"DAYS\": 10.0, \"DATE\": \"N/A\", \"label\": \"-11.0\\u00b0 - N/A\"}, {\"LONT\": 28.5, \"TEMP\": -20.0, \"DAYS\": 4.0, \"DATE\": \"28 / Nov\", \"label\": \"-20.0\\u00b0 - 28 / Nov\"}, {\"LONT\": 27.2, \"TEMP\": -24.0, \"DAYS\": 3.0, \"DATE\": \"1 / Dec\", \"label\": \"-24.0\\u00b0 - 1 / Dec\"}, {\"LONT\": 26.7, \"TEMP\": -30.0, \"DAYS\": 5.0, \"DATE\": \"6 / Dec\", \"label\": \"-30.0\\u00b0 - 6 / Dec\"}, {\"LONT\": 25.3, \"TEMP\": -26.0, \"DAYS\": 1.0, \"DATE\": \"7 / Dec\", \"label\": \"-26.0\\u00b0 - 7 / Dec\"}]}}, {\"mode\": \"vega-lite\"});\n",
              "</script>"
            ]
          },
          "metadata": {},
          "execution_count": 27
        }
      ]
    },
    {
      "cell_type": "code",
      "metadata": {
        "id": "Mnz1BKG_JD7K",
        "colab": {
          "base_uri": "https://localhost:8080/",
          "height": 828
        },
        "outputId": "bebb8b08-6d06-4c66-93c7-5bc232bb9b45"
      },
      "source": [
        "#combining temp and map chart\n",
        "final_chart = alt.vconcat(map_chart, temp).configure_view(\n",
        "    width=800,\n",
        "    height=200,\n",
        "    strokeWidth=0\n",
        ").configure_axis(\n",
        "    grid=False,\n",
        "    labelFont=\"Calibri\",\n",
        "    titleFont=\"Calibri\"\n",
        ")\n",
        "final_chart.background='white'\n",
        "final_chart"
      ],
      "execution_count": 28,
      "outputs": [
        {
          "output_type": "execute_result",
          "data": {
            "text/plain": [
              "alt.VConcatChart(...)"
            ],
            "text/html": [
              "\n",
              "<div id=\"altair-viz-9fbabf9e2c4d481dbd2d8ab78586b4e0\"></div>\n",
              "<script type=\"text/javascript\">\n",
              "  (function(spec, embedOpt){\n",
              "    let outputDiv = document.currentScript.previousElementSibling;\n",
              "    if (outputDiv.id !== \"altair-viz-9fbabf9e2c4d481dbd2d8ab78586b4e0\") {\n",
              "      outputDiv = document.getElementById(\"altair-viz-9fbabf9e2c4d481dbd2d8ab78586b4e0\");\n",
              "    }\n",
              "    const paths = {\n",
              "      \"vega\": \"https://cdn.jsdelivr.net/npm//vega@5?noext\",\n",
              "      \"vega-lib\": \"https://cdn.jsdelivr.net/npm//vega-lib?noext\",\n",
              "      \"vega-lite\": \"https://cdn.jsdelivr.net/npm//vega-lite@4.8.1?noext\",\n",
              "      \"vega-embed\": \"https://cdn.jsdelivr.net/npm//vega-embed@6?noext\",\n",
              "    };\n",
              "\n",
              "    function loadScript(lib) {\n",
              "      return new Promise(function(resolve, reject) {\n",
              "        var s = document.createElement('script');\n",
              "        s.src = paths[lib];\n",
              "        s.async = true;\n",
              "        s.onload = () => resolve(paths[lib]);\n",
              "        s.onerror = () => reject(`Error loading script: ${paths[lib]}`);\n",
              "        document.getElementsByTagName(\"head\")[0].appendChild(s);\n",
              "      });\n",
              "    }\n",
              "\n",
              "    function showError(err) {\n",
              "      outputDiv.innerHTML = `<div class=\"error\" style=\"color:red;\">${err}</div>`;\n",
              "      throw err;\n",
              "    }\n",
              "\n",
              "    function displayChart(vegaEmbed) {\n",
              "      vegaEmbed(outputDiv, spec, embedOpt)\n",
              "        .catch(err => showError(`Javascript Error: ${err.message}<br>This usually means there's a typo in your chart specification. See the javascript console for the full traceback.`));\n",
              "    }\n",
              "\n",
              "    if(typeof define === \"function\" && define.amd) {\n",
              "      requirejs.config({paths});\n",
              "      require([\"vega-embed\"], displayChart, err => showError(`Error loading script: ${err.message}`));\n",
              "    } else if (typeof vegaEmbed === \"function\") {\n",
              "      displayChart(vegaEmbed);\n",
              "    } else {\n",
              "      loadScript(\"vega\")\n",
              "        .then(() => loadScript(\"vega-lite\"))\n",
              "        .then(() => loadScript(\"vega-embed\"))\n",
              "        .catch(showError)\n",
              "        .then(() => displayChart(vegaEmbed));\n",
              "    }\n",
              "  })({\"config\": {\"view\": {\"continuousWidth\": 400, \"continuousHeight\": 300, \"height\": 200, \"strokeWidth\": 0, \"width\": 800}, \"axis\": {\"grid\": false, \"labelFont\": \"Calibri\", \"titleFont\": \"Calibri\"}}, \"vconcat\": [{\"layer\": [{\"data\": {\"name\": \"data-0f0079365b977f2d9c02a859d88580f1\"}, \"mark\": \"trail\", \"encoding\": {\"color\": {\"value\": \"#4287f5\"}, \"detail\": {\"type\": \"quantitative\", \"field\": \"DIV\"}, \"latitude\": {\"field\": \"LATP\", \"type\": \"quantitative\"}, \"longitude\": {\"field\": \"LONP\", \"type\": \"quantitative\"}, \"size\": {\"type\": \"quantitative\", \"field\": \"SURV\", \"legend\": null, \"scale\": {\"range\": [1, 60]}}, \"tooltip\": [{\"type\": \"quantitative\", \"field\": \"DIV\", \"title\": \"Division\"}, {\"type\": \"quantitative\", \"field\": \"SURV\", \"title\": \"Survivors\"}, {\"type\": \"nominal\", \"field\": \"DIR\", \"title\": \"Direction\"}, {\"type\": \"quantitative\", \"field\": \"LONP\", \"title\": \"Longitude\"}, {\"type\": \"quantitative\", \"field\": \"LATP\", \"title\": \"Latitude\"}]}, \"height\": 350, \"title\": \"A VISUALISATION OF TROOP LOSSES DURING NAPOLEON\\u2019S RUSSIA CAMPAIGN\", \"width\": 1300}, {\"data\": {\"name\": \"data-be25f3f125547aee2cbfd3e5d807c71a\"}, \"mark\": \"trail\", \"encoding\": {\"color\": {\"value\": \"#9ec3ff\"}, \"detail\": {\"type\": \"quantitative\", \"field\": \"DIV\"}, \"latitude\": {\"field\": \"LATP\", \"type\": \"quantitative\"}, \"longitude\": {\"field\": \"LONP\", \"type\": \"quantitative\"}, \"size\": {\"type\": \"quantitative\", \"field\": \"SURV\", \"legend\": null, \"scale\": {\"range\": [1, 60]}}, \"tooltip\": [{\"type\": \"quantitative\", \"field\": \"DIV\", \"title\": \"Division\"}, {\"type\": \"quantitative\", \"field\": \"SURV\", \"title\": \"Survivors\"}, {\"type\": \"nominal\", \"field\": \"DIR\", \"title\": \"Direction\"}, {\"type\": \"quantitative\", \"field\": \"LONP\", \"title\": \"Longitude\"}, {\"type\": \"quantitative\", \"field\": \"LATP\", \"title\": \"Latitude\"}]}, \"height\": 350, \"title\": \"A VISUALISATION OF TROOP LOSSES DURING NAPOLEON\\u2019S RUSSIA CAMPAIGN\", \"width\": 1300}, {\"layer\": [{\"data\": {\"name\": \"data-199eac02c46db1311fbae3df525227f6\"}, \"mark\": \"trail\", \"encoding\": {\"color\": {\"value\": \"#ff9438\"}, \"detail\": {\"type\": \"quantitative\", \"field\": \"DIV\"}, \"latitude\": {\"field\": \"LATP\", \"type\": \"quantitative\"}, \"longitude\": {\"field\": \"LONP\", \"type\": \"quantitative\"}, \"size\": {\"type\": \"quantitative\", \"field\": \"SURV\", \"legend\": null, \"scale\": {\"range\": [1, 60]}}, \"tooltip\": [{\"type\": \"quantitative\", \"field\": \"DIV\", \"title\": \"Division\"}, {\"type\": \"quantitative\", \"field\": \"SURV\", \"title\": \"Survivors\"}, {\"type\": \"nominal\", \"field\": \"DIR\", \"title\": \"Direction\"}, {\"type\": \"quantitative\", \"field\": \"LONP\", \"title\": \"Longitude\"}, {\"type\": \"quantitative\", \"field\": \"LATP\", \"title\": \"Latitude\"}]}, \"height\": 350, \"title\": \"A VISUALISATION OF TROOP LOSSES DURING NAPOLEON\\u2019S RUSSIA CAMPAIGN\", \"width\": 1300}, {\"data\": {\"name\": \"data-0f3a90da2833a0677dcd4b2dd865d475\"}, \"mark\": \"trail\", \"encoding\": {\"color\": {\"value\": \"#ffcb9e\"}, \"detail\": {\"type\": \"quantitative\", \"field\": \"DIV\"}, \"latitude\": {\"field\": \"LATP\", \"type\": \"quantitative\"}, \"longitude\": {\"field\": \"LONP\", \"type\": \"quantitative\"}, \"size\": {\"type\": \"quantitative\", \"field\": \"SURV\", \"legend\": null, \"scale\": {\"range\": [1, 60]}}, \"tooltip\": [{\"type\": \"quantitative\", \"field\": \"DIV\", \"title\": \"Division\"}, {\"type\": \"quantitative\", \"field\": \"SURV\", \"title\": \"Survivors\"}, {\"type\": \"nominal\", \"field\": \"DIR\", \"title\": \"Direction\"}, {\"type\": \"quantitative\", \"field\": \"LONP\", \"title\": \"Longitude\"}, {\"type\": \"quantitative\", \"field\": \"LATP\", \"title\": \"Latitude\"}]}, \"height\": 350, \"title\": \"A VISUALISATION OF TROOP LOSSES DURING NAPOLEON\\u2019S RUSSIA CAMPAIGN\", \"width\": 1300}]}, {\"layer\": [{\"data\": {\"name\": \"data-ae55ba3c652a8b84865f6b3e8ca8b1f6\"}, \"mark\": \"trail\", \"encoding\": {\"color\": {\"value\": \"#0f9432\"}, \"detail\": {\"type\": \"quantitative\", \"field\": \"DIV\"}, \"latitude\": {\"field\": \"LATP\", \"type\": \"quantitative\"}, \"longitude\": {\"field\": \"LONP\", \"type\": \"quantitative\"}, \"size\": {\"type\": \"quantitative\", \"field\": \"SURV\", \"legend\": null, \"scale\": {\"range\": [1, 60]}}, \"tooltip\": [{\"type\": \"quantitative\", \"field\": \"DIV\", \"title\": \"Division\"}, {\"type\": \"quantitative\", \"field\": \"SURV\", \"title\": \"Survivors\"}, {\"type\": \"nominal\", \"field\": \"DIR\", \"title\": \"Direction\"}, {\"type\": \"quantitative\", \"field\": \"LONP\", \"title\": \"Longitude\"}, {\"type\": \"quantitative\", \"field\": \"LATP\", \"title\": \"Latitude\"}]}, \"height\": 350, \"title\": \"A VISUALISATION OF TROOP LOSSES DURING NAPOLEON\\u2019S RUSSIA CAMPAIGN\", \"width\": 1300}, {\"data\": {\"name\": \"data-b909b8e36c44e703f12595083cc00298\"}, \"mark\": \"trail\", \"encoding\": {\"color\": {\"value\": \"#92fcaf\"}, \"detail\": {\"type\": \"quantitative\", \"field\": \"DIV\"}, \"latitude\": {\"field\": \"LATP\", \"type\": \"quantitative\"}, \"longitude\": {\"field\": \"LONP\", \"type\": \"quantitative\"}, \"size\": {\"type\": \"quantitative\", \"field\": \"SURV\", \"legend\": null, \"scale\": {\"range\": [1, 60]}}, \"tooltip\": [{\"type\": \"quantitative\", \"field\": \"DIV\", \"title\": \"Division\"}, {\"type\": \"quantitative\", \"field\": \"SURV\", \"title\": \"Survivors\"}, {\"type\": \"nominal\", \"field\": \"DIR\", \"title\": \"Direction\"}, {\"type\": \"quantitative\", \"field\": \"LONP\", \"title\": \"Longitude\"}, {\"type\": \"quantitative\", \"field\": \"LATP\", \"title\": \"Latitude\"}]}, \"height\": 350, \"title\": \"A VISUALISATION OF TROOP LOSSES DURING NAPOLEON\\u2019S RUSSIA CAMPAIGN\", \"width\": 1300}]}, {\"layer\": [{\"mark\": {\"type\": \"text\", \"dx\": 0, \"dy\": 12, \"fontSize\": 10, \"fontStyle\": \"italic\"}, \"encoding\": {\"latitude\": {\"field\": \"LATC\", \"type\": \"quantitative\"}, \"longitude\": {\"field\": \"LONC\", \"type\": \"quantitative\"}, \"text\": {\"type\": \"nominal\", \"field\": \"CITY\"}}, \"height\": 350, \"width\": 1300}, {\"mark\": {\"type\": \"circle\", \"color\": \"black\", \"size\": 50}, \"encoding\": {\"latitude\": {\"field\": \"LATC\", \"type\": \"quantitative\"}, \"longitude\": {\"field\": \"LONC\", \"type\": \"quantitative\"}, \"tooltip\": [{\"type\": \"nominal\", \"field\": \"CITY\", \"title\": \"City\"}, {\"type\": \"quantitative\", \"field\": \"LONC\", \"title\": \"Longitude\"}, {\"type\": \"quantitative\", \"field\": \"LATC\", \"title\": \"Latitude\"}]}, \"height\": 350, \"width\": 1300}], \"data\": {\"name\": \"data-09a84a2cca3e202a740f0b269ef96a7e\"}}], \"height\": 600, \"width\": 900}, {\"layer\": [{\"mark\": \"trail\", \"encoding\": {\"x\": {\"type\": \"quantitative\", \"field\": \"LONT\"}, \"y\": {\"type\": \"quantitative\", \"field\": \"TEMP\"}}, \"height\": 350, \"title\": \"A VISUALISATION OF TEMPERATURE DURING RETREAT OF NAPOLEON\\u2019S RUSSIA CAMPAIGN IN DEGREES\", \"width\": 1300}, {\"layer\": [{\"mark\": {\"type\": \"circle\", \"color\": \"black\", \"size\": 50}, \"encoding\": {\"tooltip\": [{\"type\": \"quantitative\", \"field\": \"LONT\", \"title\": \"Longitude\"}, {\"type\": \"quantitative\", \"field\": \"TEMP\", \"title\": \"Temperature\"}], \"x\": {\"type\": \"quantitative\", \"field\": \"LONT\"}, \"y\": {\"type\": \"quantitative\", \"field\": \"TEMP\"}}, \"height\": 350, \"width\": 1300}, {\"mark\": {\"type\": \"text\", \"dx\": 50, \"dy\": -6, \"fontSize\": 10, \"fontStyle\": \"italic\"}, \"encoding\": {\"text\": {\"type\": \"nominal\", \"field\": \"label\"}, \"x\": {\"type\": \"quantitative\", \"field\": \"LONT\"}, \"y\": {\"type\": \"quantitative\", \"field\": \"TEMP\"}}, \"height\": 350, \"width\": 1300}]}], \"data\": {\"name\": \"data-c56cbd6688bf374ccfb16b1733f062dc\"}}], \"background\": \"white\", \"$schema\": \"https://vega.github.io/schema/vega-lite/v4.8.1.json\", \"datasets\": {\"data-0f0079365b977f2d9c02a859d88580f1\": [{\"LONP\": 24.0, \"LATP\": 54.9, \"SURV\": 340000, \"DIR\": \"A\", \"DIV\": 1}, {\"LONP\": 24.5, \"LATP\": 55.0, \"SURV\": 340000, \"DIR\": \"A\", \"DIV\": 1}, {\"LONP\": 25.5, \"LATP\": 54.5, \"SURV\": 340000, \"DIR\": \"A\", \"DIV\": 1}, {\"LONP\": 26.0, \"LATP\": 54.7, \"SURV\": 320000, \"DIR\": \"A\", \"DIV\": 1}, {\"LONP\": 27.0, \"LATP\": 54.8, \"SURV\": 300000, \"DIR\": \"A\", \"DIV\": 1}, {\"LONP\": 28.0, \"LATP\": 54.9, \"SURV\": 280000, \"DIR\": \"A\", \"DIV\": 1}, {\"LONP\": 28.5, \"LATP\": 55.0, \"SURV\": 240000, \"DIR\": \"A\", \"DIV\": 1}, {\"LONP\": 29.0, \"LATP\": 55.1, \"SURV\": 210000, \"DIR\": \"A\", \"DIV\": 1}, {\"LONP\": 30.0, \"LATP\": 55.2, \"SURV\": 180000, \"DIR\": \"A\", \"DIV\": 1}, {\"LONP\": 30.3, \"LATP\": 55.3, \"SURV\": 175000, \"DIR\": \"A\", \"DIV\": 1}, {\"LONP\": 32.0, \"LATP\": 54.8, \"SURV\": 145000, \"DIR\": \"A\", \"DIV\": 1}, {\"LONP\": 33.2, \"LATP\": 54.9, \"SURV\": 140000, \"DIR\": \"A\", \"DIV\": 1}, {\"LONP\": 34.4, \"LATP\": 55.5, \"SURV\": 127100, \"DIR\": \"A\", \"DIV\": 1}, {\"LONP\": 35.5, \"LATP\": 55.4, \"SURV\": 100000, \"DIR\": \"A\", \"DIV\": 1}, {\"LONP\": 36.0, \"LATP\": 55.5, \"SURV\": 100000, \"DIR\": \"A\", \"DIV\": 1}, {\"LONP\": 37.6, \"LATP\": 55.8, \"SURV\": 100000, \"DIR\": \"A\", \"DIV\": 1}], \"data-be25f3f125547aee2cbfd3e5d807c71a\": [{\"LONP\": 37.6, \"LATP\": 55.8, \"SURV\": 100000, \"DIR\": \"R\", \"DIV\": 1}, {\"LONP\": 37.5, \"LATP\": 55.7, \"SURV\": 98000, \"DIR\": \"R\", \"DIV\": 1}, {\"LONP\": 37.0, \"LATP\": 55.0, \"SURV\": 97000, \"DIR\": \"R\", \"DIV\": 1}, {\"LONP\": 36.8, \"LATP\": 55.0, \"SURV\": 96000, \"DIR\": \"R\", \"DIV\": 1}, {\"LONP\": 35.4, \"LATP\": 55.3, \"SURV\": 87000, \"DIR\": \"R\", \"DIV\": 1}, {\"LONP\": 34.3, \"LATP\": 55.2, \"SURV\": 55000, \"DIR\": \"R\", \"DIV\": 1}, {\"LONP\": 33.3, \"LATP\": 54.8, \"SURV\": 37000, \"DIR\": \"R\", \"DIV\": 1}, {\"LONP\": 32.0, \"LATP\": 54.6, \"SURV\": 24000, \"DIR\": \"R\", \"DIV\": 1}, {\"LONP\": 30.4, \"LATP\": 54.4, \"SURV\": 20000, \"DIR\": \"R\", \"DIV\": 1}, {\"LONP\": 29.2, \"LATP\": 54.4, \"SURV\": 20000, \"DIR\": \"R\", \"DIV\": 1}, {\"LONP\": 28.5, \"LATP\": 54.3, \"SURV\": 20000, \"DIR\": \"R\", \"DIV\": 1}, {\"LONP\": 28.3, \"LATP\": 54.4, \"SURV\": 20000, \"DIR\": \"R\", \"DIV\": 1}], \"data-199eac02c46db1311fbae3df525227f6\": [{\"LONP\": 24.0, \"LATP\": 55.1, \"SURV\": 60000, \"DIR\": \"A\", \"DIV\": 2}, {\"LONP\": 24.5, \"LATP\": 55.2, \"SURV\": 60000, \"DIR\": \"A\", \"DIV\": 2}, {\"LONP\": 25.5, \"LATP\": 54.7, \"SURV\": 60000, \"DIR\": \"A\", \"DIV\": 2}, {\"LONP\": 26.6, \"LATP\": 55.7, \"SURV\": 40000, \"DIR\": \"A\", \"DIV\": 2}, {\"LONP\": 27.4, \"LATP\": 55.6, \"SURV\": 33000, \"DIR\": \"A\", \"DIV\": 2}, {\"LONP\": 28.7, \"LATP\": 55.5, \"SURV\": 33000, \"DIR\": \"A\", \"DIV\": 2}], \"data-0f3a90da2833a0677dcd4b2dd865d475\": [{\"LONP\": 28.7, \"LATP\": 55.5, \"SURV\": 30000, \"DIR\": \"R\", \"DIV\": 2}, {\"LONP\": 29.2, \"LATP\": 54.3, \"SURV\": 30000, \"DIR\": \"R\", \"DIV\": 2}, {\"LONP\": 28.5, \"LATP\": 54.2, \"SURV\": 30000, \"DIR\": \"R\", \"DIV\": 2}, {\"LONP\": 28.3, \"LATP\": 54.3, \"SURV\": 28000, \"DIR\": \"R\", \"DIV\": 2}, {\"LONP\": 27.5, \"LATP\": 54.5, \"SURV\": 20000, \"DIR\": \"R\", \"DIV\": 2}, {\"LONP\": 26.8, \"LATP\": 54.3, \"SURV\": 12000, \"DIR\": \"R\", \"DIV\": 2}, {\"LONP\": 26.4, \"LATP\": 54.4, \"SURV\": 14000, \"DIR\": \"R\", \"DIV\": 2}, {\"LONP\": 24.6, \"LATP\": 54.5, \"SURV\": 8000, \"DIR\": \"R\", \"DIV\": 2}, {\"LONP\": 24.4, \"LATP\": 54.4, \"SURV\": 4000, \"DIR\": \"R\", \"DIV\": 2}, {\"LONP\": 24.2, \"LATP\": 54.4, \"SURV\": 4000, \"DIR\": \"R\", \"DIV\": 2}, {\"LONP\": 24.1, \"LATP\": 54.3, \"SURV\": 4000, \"DIR\": \"R\", \"DIV\": 2}], \"data-ae55ba3c652a8b84865f6b3e8ca8b1f6\": [{\"LONP\": 24.0, \"LATP\": 55.2, \"SURV\": 22000, \"DIR\": \"A\", \"DIV\": 3}, {\"LONP\": 24.5, \"LATP\": 55.3, \"SURV\": 22000, \"DIR\": \"A\", \"DIV\": 3}, {\"LONP\": 24.6, \"LATP\": 55.8, \"SURV\": 22000, \"DIR\": \"A\", \"DIV\": 3}], \"data-b909b8e36c44e703f12595083cc00298\": [{\"LONP\": 24.6, \"LATP\": 55.8, \"SURV\": 6000, \"DIR\": \"R\", \"DIV\": 3}, {\"LONP\": 24.2, \"LATP\": 54.4, \"SURV\": 6000, \"DIR\": \"R\", \"DIV\": 3}, {\"LONP\": 24.1, \"LATP\": 54.3, \"SURV\": 6000, \"DIR\": \"R\", \"DIV\": 3}], \"data-09a84a2cca3e202a740f0b269ef96a7e\": [{\"LONC\": 24.0, \"LATC\": 55.0, \"CITY\": \"Kowno\"}, {\"LONC\": 25.3, \"LATC\": 54.7, \"CITY\": \"Wilna\"}, {\"LONC\": 26.4, \"LATC\": 54.4, \"CITY\": \"Smorgoni\"}, {\"LONC\": 26.8, \"LATC\": 54.3, \"CITY\": \"Molodexno\"}, {\"LONC\": 27.7, \"LATC\": 55.2, \"CITY\": \"Gloubokoe\"}, {\"LONC\": 27.6, \"LATC\": 53.9, \"CITY\": \"Minsk\"}, {\"LONC\": 28.5, \"LATC\": 54.3, \"CITY\": \"Studienska\"}, {\"LONC\": 28.7, \"LATC\": 55.5, \"CITY\": \"Polotzk\"}, {\"LONC\": 29.2, \"LATC\": 54.4, \"CITY\": \"Bobr\"}, {\"LONC\": 30.2, \"LATC\": 55.3, \"CITY\": \"Witebsk\"}, {\"LONC\": 30.4, \"LATC\": 54.5, \"CITY\": \"Orscha\"}, {\"LONC\": 30.4, \"LATC\": 53.9, \"CITY\": \"Mohilow\"}, {\"LONC\": 32.0, \"LATC\": 54.8, \"CITY\": \"Smolensk\"}, {\"LONC\": 33.2, \"LATC\": 54.9, \"CITY\": \"Dorogobouge\"}, {\"LONC\": 34.3, \"LATC\": 55.2, \"CITY\": \"Wixma\"}, {\"LONC\": 34.4, \"LATC\": 55.5, \"CITY\": \"Chjat\"}, {\"LONC\": 36.0, \"LATC\": 55.5, \"CITY\": \"Mojaisk\"}, {\"LONC\": 37.6, \"LATC\": 55.8, \"CITY\": \"Moscou\"}, {\"LONC\": 36.6, \"LATC\": 55.3, \"CITY\": \"Tarantino\"}, {\"LONC\": 36.5, \"LATC\": 55.0, \"CITY\": \"Malo-jarosewli\"}], \"data-c56cbd6688bf374ccfb16b1733f062dc\": [{\"LONT\": 37.6, \"TEMP\": 0.0, \"DAYS\": 6.0, \"DATE\": \"18 / Oct\", \"label\": \"0.0\\u00b0 - 18 / Oct\"}, {\"LONT\": 36.0, \"TEMP\": 0.0, \"DAYS\": 6.0, \"DATE\": \"24 / Oct\", \"label\": \"0.0\\u00b0 - 24 / Oct\"}, {\"LONT\": 33.2, \"TEMP\": -9.0, \"DAYS\": 16.0, \"DATE\": \"9 / Nov\", \"label\": \"-9.0\\u00b0 - 9 / Nov\"}, {\"LONT\": 32.0, \"TEMP\": -21.0, \"DAYS\": 5.0, \"DATE\": \"14 / Nov\", \"label\": \"-21.0\\u00b0 - 14 / Nov\"}, {\"LONT\": 29.2, \"TEMP\": -11.0, \"DAYS\": 10.0, \"DATE\": \"N/A\", \"label\": \"-11.0\\u00b0 - N/A\"}, {\"LONT\": 28.5, \"TEMP\": -20.0, \"DAYS\": 4.0, \"DATE\": \"28 / Nov\", \"label\": \"-20.0\\u00b0 - 28 / Nov\"}, {\"LONT\": 27.2, \"TEMP\": -24.0, \"DAYS\": 3.0, \"DATE\": \"1 / Dec\", \"label\": \"-24.0\\u00b0 - 1 / Dec\"}, {\"LONT\": 26.7, \"TEMP\": -30.0, \"DAYS\": 5.0, \"DATE\": \"6 / Dec\", \"label\": \"-30.0\\u00b0 - 6 / Dec\"}, {\"LONT\": 25.3, \"TEMP\": -26.0, \"DAYS\": 1.0, \"DATE\": \"7 / Dec\", \"label\": \"-26.0\\u00b0 - 7 / Dec\"}]}}, {\"mode\": \"vega-lite\"});\n",
              "</script>"
            ]
          },
          "metadata": {},
          "execution_count": 28
        }
      ]
    }
  ]
}